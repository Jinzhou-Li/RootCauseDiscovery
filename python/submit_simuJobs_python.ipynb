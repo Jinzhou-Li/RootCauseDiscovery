{
 "cells": [
  {
   "cell_type": "markdown",
   "id": "b69b10fa",
   "metadata": {},
   "source": [
    "## TODO: rerun other simulations later: we updated some functions."
   ]
  },
  {
   "cell_type": "markdown",
   "id": "dff9041d",
   "metadata": {},
   "source": [
    "# Simulation code for Root Cause Discovery\n",
    "\n",
    "We perform 3 simulations: the first two is in low-dimensional setting, while the last mimicks our real data analysis (high-dimensional setting). All simulation uses the following model\n",
    "\n",
    "+ X <- mu_x+ BX +error + delta, \n",
    "+ X = (I-B)^{-1}* (mu_x + error + delta), \n",
    "\n",
    "with different kinds of B."
   ]
  },
  {
   "cell_type": "code",
   "execution_count": 2,
   "id": "7143008e",
   "metadata": {},
   "outputs": [],
   "source": [
    "import os\n",
    "import subprocess\n",
    "from math import ceil\n",
    "\n",
    "def submit(command, ncores, total_mem, joblog_dir, jobname=\"submit\"):\n",
    "    mem = ceil(total_mem / ncores)  # memory per core\n",
    "    filename = f\"{jobname}.sh\"\n",
    "    with open(filename, \"w\") as io:\n",
    "        io.write(\"#!/bin/bash\\n\")\n",
    "        io.write(\"#\\n\")\n",
    "        io.write(f\"#SBATCH --job-name={jobname}\\n\")\n",
    "        io.write(\"#\\n\")\n",
    "        io.write(\"#SBATCH --time=48:00:00\\n\")\n",
    "        io.write(f\"#SBATCH --cpus-per-task={ncores}\\n\")\n",
    "        io.write(f\"#SBATCH --mem-per-cpu={mem}G\\n\")\n",
    "        io.write(\"#SBATCH --partition=candes,normal,hns\\n\")\n",
    "        io.write(f\"#SBATCH --output={os.path.join(joblog_dir, 'slurm-%j.out')}\\n\")\n",
    "        io.write(\"\\n\")\n",
    "        io.write(\"#save job info on joblog:\\n\")\n",
    "        io.write(\"echo \\\"Job $JOB_ID started on:   \\\" `hostname -s`\\n\")\n",
    "        io.write(\"echo \\\"Job $JOB_ID started on:   \\\" `date `\\n\")\n",
    "        io.write(\"\\n\")\n",
    "        io.write(\"# load the job environment:\\n\")\n",
    "        io.write(\"module load python/3.6.1\\n\")\n",
    "        io.write(\"\\n\")\n",
    "        io.write(\"# run code\\n\")\n",
    "        io.write(f\"echo \\\"{command}\\\"\\n\")\n",
    "        io.write(f\"{command}\\n\")\n",
    "        io.write(\"\\n\")\n",
    "        io.write(\"#echo job info on joblog:\\n\")\n",
    "        io.write(\"echo \\\"Job $JOB_ID ended on:   \\\" `hostname -s`\\n\")\n",
    "        io.write(\"echo \\\"Job $JOB_ID ended on:   \\\" `date `\\n\")\n",
    "        io.write(\"#echo \\\" \\\"\\n\")\n",
    "    \n",
    "    # submit job\n",
    "    subprocess.run([\"sbatch\", filename])\n",
    "    # clean up\n",
    "    os.remove(filename)\n",
    "    return None"
   ]
  },
  {
   "cell_type": "markdown",
   "id": "f047541e",
   "metadata": {},
   "source": [
    "## Simulation 1: hub DAG - high-dim"
   ]
  },
  {
   "cell_type": "code",
   "execution_count": null,
   "id": "57e89bdf",
   "metadata": {},
   "outputs": [
    {
     "name": "stdout",
     "output_type": "stream",
     "text": [
      "Submitted batch job 47641150\n",
      "Submitted batch job 47641151\n",
      "Submitted batch job 47641159\n",
      "Submitted batch job 47641160\n",
      "Submitted batch job 47641161\n"
     ]
    }
   ],
   "source": [
    "python_exe = \"/home/users/jinzhoul/Simulations/RootCauseDiscovery/20250601/HighDimHubDAGn100/simu_script.py\"\n",
    "\n",
    "s_B_vec = [0.2]\n",
    "int_mean_vec = [15]\n",
    "dag_type = \"hub\"\n",
    "dimreduce_method = \"cv\"\n",
    "ncore = 8\n",
    "seedB_all = 5\n",
    "seedm_all = 20\n",
    "outdir = \"/home/users/jinzhoul/Simulations/RootCauseDiscovery/20250601/HighDimHubDAGn100/results\"\n",
    "\n",
    "for s_B in s_B_vec:\n",
    "    for int_mean in int_mean_vec:\n",
    "        for seedB in range(seedB_all):\n",
    "            for seedm in range(seedm_all):\n",
    "                cmd = f\"python3 {python_exe} {s_B} {int_mean} {dag_type} {dimreduce_method} {ncore} {seedB} {seedm} {outdir}\"\n",
    "\n",
    "                # 'ncore', 12 GB\n",
    "                joblog_dir = \"/home/users/jinzhoul/Simulations/RootCauseDiscovery/20250601/HighDimHubDAGn100/joblogs\"\n",
    "                jobname = f\"hd_{dag_type}_{dimreduce_method}_s{int(s_B*10)}_int{int_mean}_seedB{seedB}_seedm{seedm}\"\n",
    "                submit(cmd, ncore, 12, joblog_dir, jobname)"
   ]
  },
  {
   "cell_type": "code",
   "execution_count": null,
   "id": "fc09e506",
   "metadata": {},
   "outputs": [],
   "source": [
    "python_exe = \"/home/users/jinzhoul/Simulations/RootCauseDiscovery/20250601/HighDimHubDAGn200/simu_script.py\"\n",
    "\n",
    "s_B_vec = [0.2]\n",
    "int_mean_vec = [15]\n",
    "dag_type = \"hub\"\n",
    "dimreduce_method = \"cv\"\n",
    "ncore = 8\n",
    "seedB_all = 5\n",
    "seedm_all = 20\n",
    "outdir = \"/home/users/jinzhoul/Simulations/RootCauseDiscovery/20250601/HighDimHubDAGn200/results\"\n",
    "\n",
    "for s_B in s_B_vec:\n",
    "    for int_mean in int_mean_vec:\n",
    "        for seedB in range(seedB_all):\n",
    "            for seedm in range(seedm_all):\n",
    "                cmd = f\"python3 {python_exe} {s_B} {int_mean} {dag_type} {dimreduce_method} {ncore} {seedB} {seedm} {outdir}\"\n",
    "\n",
    "                # 'ncore', 12 GB\n",
    "                joblog_dir = \"/home/users/jinzhoul/Simulations/RootCauseDiscovery/20250601/HighDimHubDAGn100/joblogs\"\n",
    "                jobname = f\"hd_{dag_type}_{dimreduce_method}_s{int(s_B*10)}_int{int_mean}_seedB{seedB}_seedm{seedm}\"\n",
    "                submit(cmd, ncore, 12, joblog_dir, jobname)"
   ]
  }
 ],
 "metadata": {
  "kernelspec": {
   "display_name": "Python 3 (ipykernel)",
   "language": "python",
   "name": "python3"
  },
  "language_info": {
   "codemirror_mode": {
    "name": "ipython",
    "version": 3
   },
   "file_extension": ".py",
   "mimetype": "text/x-python",
   "name": "python",
   "nbconvert_exporter": "python",
   "pygments_lexer": "ipython3",
   "version": "3.9.0"
  }
 },
 "nbformat": 4,
 "nbformat_minor": 5
}
