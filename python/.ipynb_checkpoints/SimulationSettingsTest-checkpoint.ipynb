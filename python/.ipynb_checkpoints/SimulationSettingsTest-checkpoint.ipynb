{
 "cells": [
  {
   "cell_type": "markdown",
   "id": "5608b707",
   "metadata": {},
   "source": [
    "## Todo:\n",
    "- Submit jobs to clusters to do formal simulations as follow:\n",
    "    - Low-dimensional settings (p=100, n=300), consider random and hub dags (both are randomly generated), randomly generated them 10 times, for each time, consider m=100 interventional samples.\n",
    "    - High-dim settings (p=1000, n=300), as above, could be computationally very expensive, maybe parallel. (for this simulation we use the same method as in real data, and we will use the results as a backup for the real data results: this in some sense means that latent confounder introduced by lasso will not make our method very bad)\n",
    "    - Maybe fix s_B and vary interventional strength, and fix interventional strength and vary s_B; and show the results.\n",
    "\n",
    "- Three variable case with all permuatations.\n",
    "- Latent variable settings: only for low-dimensional case, discard certain percent (10, 20, 30) of the generated non-RC varianbles.\n",
    "\n",
    "## Done:\n",
    "- update 'root_cause_discovery_high_dimensional' function to return final root cause score. \n",
    "- Change name 'root_cause_discovery_one_subject_all_perm' to 'root_cause_discovery_main' \n",
    "- Change the function 'root_cause_discovery_one_subject_all_perm' so that there is no need to decide threshold.\n",
    "- Address small issues in 'root_cause_discovery_one_subject_all_perm' \n",
    "- Change variable names to make them consistency: e.g., X_obs and Xobs "
   ]
  },
  {
   "cell_type": "markdown",
   "id": "dfc82e04-fb27-41c6-b0cf-56435f381a61",
   "metadata": {},
   "source": [
    "### This file is used as a test for later formal/extensive simulations"
   ]
  },
  {
   "cell_type": "markdown",
   "id": "5ef1c42f-4fd3-4be7-8e6a-89c5599a3226",
   "metadata": {},
   "source": [
    "### Generate data by \n",
    "\n",
    "X <- mu_x+ BX +error + delta, \n",
    "\n",
    "or\n",
    "\n",
    "X = (I-B)^{-1}* (mu_x + error + delta), \n",
    "\n",
    "with different kinds of B."
   ]
  },
  {
   "cell_type": "code",
   "execution_count": 3,
   "id": "c0106439-b6c8-4d4a-9a85-a7eeee8883a6",
   "metadata": {},
   "outputs": [],
   "source": [
    "import numpy as np\n",
    "import pandas as pd\n",
    "from tqdm import tqdm\n",
    "import networkx as nx # draw DAG\n",
    "import warnings  # ignore the warnings\n",
    "from root_cause_discovery_funcs import  *\n",
    "from simulation_setting_func import  *\n",
    "\n",
    "import matplotlib.pyplot as plt\n",
    "from collections import Counter\n",
    "\n",
    "def draw_hist(list1, list2, label1, label2, bar_width_para=5):\n",
    "    # Count the frequency of each integer in the lists\n",
    "    counter1 = Counter(list1)\n",
    "    counter2 = Counter(list2)\n",
    "    \n",
    "    # Combine keys from both counters\n",
    "    all_elements = list(set(counter1.keys()).union(set(counter2.keys())))\n",
    "    all_elements.sort()  # Sort elements for better visualization\n",
    "    \n",
    "    # Extract counts, ensuring all_elements order\n",
    "    counts1 = [counter1[element] for element in all_elements]\n",
    "    counts2 = [counter2[element] for element in all_elements]\n",
    "\n",
    "    # Determine the x-axis range and calculate bar width dynamically\n",
    "    x_range = max(all_elements) - min(all_elements) + 1  # Adding 1 to ensure a non-zero range\n",
    "    num_elements = len(all_elements)\n",
    "    bar_width = x_range / (num_elements * bar_width_para)  # Adjust the denominator for desired spacing\n",
    "    \n",
    "    # Define the positions of the bars\n",
    "    r1 = np.arange(len(all_elements))\n",
    "    r2 = [x + bar_width for x in r1]\n",
    "\n",
    "    # Create the bar plot\n",
    "    plt.figure(figsize=(10, 6))\n",
    "    \n",
    "    plt.bar(r1, counts1, color='skyblue', width=bar_width, edgecolor='grey', label=label1)\n",
    "    plt.bar(r2, counts2, color='lightgreen', width=bar_width, edgecolor='grey', label=label2)\n",
    "    \n",
    "    # Add labels\n",
    "    plt.xlabel('Rank of the root cause')\n",
    "    plt.ylabel('Frequency')\n",
    "    plt.ylim(0, max(counts1 + counts2)*(1+0.1))\n",
    "\n",
    "    plt.xticks([r + bar_width/2 for r in range(len(all_elements))], all_elements)\n",
    "    \n",
    "    # Set x-axis range\n",
    "    plt.xlim(min(r1) - bar_width, max(r2) + bar_width)\n",
    "    \n",
    "    plt.legend()\n",
    "    plt.show()"
   ]
  },
  {
   "cell_type": "markdown",
   "id": "4c43e850-9312-4e80-846f-394140b874ec",
   "metadata": {},
   "source": [
    "### 1. Random DAG case"
   ]
  },
  {
   "cell_type": "code",
   "execution_count": 2,
   "id": "51e1be4b-772b-4d9a-aeeb-231b464c808a",
   "metadata": {},
   "outputs": [],
   "source": [
    "np.random.seed(2024)\n",
    "\n",
    "############## Generate b, B and sigma2_error used in the SEM\n",
    "p = 50\n",
    "s_B = 0.3\n",
    "B_value_min = -1\n",
    "B_value_max = 1\n",
    "err_min = 1\n",
    "err_max = 5\n",
    "var_X_min = 10\n",
    "var_X_max = 50\n",
    "dag_type = \"random\"\n",
    "\n",
    "B, sigma2_error, b = generate_setting(dag_type, s_B, B_value_min, B_value_max, err_min, err_max, var_X_min, var_X_max, p)\n",
    "\n",
    "# G = nx.DiGraph(B!=0)\n",
    "# nx.draw_kamada_kawai(G, with_labels=False, node_size=25)"
   ]
  },
  {
   "cell_type": "markdown",
   "id": "5f771d74-be9b-4b88-9b0b-a7005cc02d1b",
   "metadata": {},
   "source": [
    "### Implement our method based on the simulated data"
   ]
  },
  {
   "cell_type": "code",
   "execution_count": 3,
   "id": "cc306f1b-ac68-4830-b804-f6ceca25f262",
   "metadata": {},
   "outputs": [
    {
     "name": "stdout",
     "output_type": "stream",
     "text": [
      "(200, 50) (100, 50)\n"
     ]
    }
   ],
   "source": [
    "n = 200\n",
    "m = 100\n",
    "int_mean = 15\n",
    "int_sd = 1\n",
    "\n",
    "X_obs, X_int_all, RC = generate_data(n, m, p, B, sigma2_error, b, int_mean, int_sd)\n",
    "print(X_obs.shape, X_int_all.shape)"
   ]
  },
  {
   "cell_type": "code",
   "execution_count": 4,
   "id": "bec9a131-85f0-46cf-8c53-582a61e1bb8c",
   "metadata": {},
   "outputs": [],
   "source": [
    "Zscores = zscore(X_obs, X_int_all)\n",
    "#print(np.round(Zscores, 1))\n",
    "max_index_Zscore = [np.argmax(Zscores[i,:]) for i in range(Zscores.shape[0])]"
   ]
  },
  {
   "cell_type": "code",
   "execution_count": 5,
   "id": "b79e0071-b665-4b47-856e-b77c2dfe6623",
   "metadata": {},
   "outputs": [
    {
     "name": "stderr",
     "output_type": "stream",
     "text": [
      "100it [02:35,  1.56s/it]\n"
     ]
    }
   ],
   "source": [
    "np.random.seed(1)\n",
    "RC_scores_chol = np.zeros((X_int_all.shape))\n",
    "for i, X_int in tqdm(enumerate(X_int_all)):\n",
    "    # set thresholds based on Zscore[i]\n",
    "    thresholds = np.arange(0.1, min([5,max(Zscores[i,:])-0.0001]), 0.2)\n",
    "    \n",
    "    RC_scores_chol[i,:] = root_cause_discovery_main(X_obs, X_int, thresholds, nshuffles=5, verbose=False)\n",
    "\n",
    "#print(np.round(RC_scores_chol, 1))\n",
    "max_index_Chol = [np.argmax(RC_scores_chol[i,:]) for i in range(RC_scores_chol.shape[0])]"
   ]
  },
  {
   "cell_type": "code",
   "execution_count": 6,
   "id": "0af888f9-8ef2-464e-a981-6960f1c3d51b",
   "metadata": {},
   "outputs": [
    {
     "name": "stdout",
     "output_type": "stream",
     "text": [
      "88 52\n"
     ]
    }
   ],
   "source": [
    "# a quick look at how for how many interventional smaples each method sucessfully find the RC \n",
    "num_success_Zscore = sum(x == y for x, y in zip(max_index_Zscore, RC))\n",
    "num_success_Chol = sum(x == y for x, y in zip(max_index_Chol, RC))\n",
    "print(num_success_Chol, num_success_Zscore)\n",
    "\n",
    "# df = pd.DataFrame({\"RC\":RC, \"Zscore\": max_index_Zscore, \"Chol\": max_index_Chol})\n",
    "# pd.set_option('display.max_columns', None)\n",
    "# pd.set_option('display.max_rows', None)\n",
    "# print(df.to_string(index=False))"
   ]
  },
  {
   "cell_type": "code",
   "execution_count": 7,
   "id": "5150c8f0",
   "metadata": {},
   "outputs": [
    {
     "data": {
      "image/png": "[encoded data removed]",
      "text/plain": [
       "<Figure size 1000x600 with 1 Axes>"
      ]
     },
     "metadata": {},
     "output_type": "display_data"
    }
   ],
   "source": [
    "RC_rank_Zscore = [np.sum(Zscores[i,RC[i]] < Zscores[i,:]) \n",
    " for i in range(Zscores.shape[0])]\n",
    "\n",
    "RC_rank_Chol = [np.sum(RC_scores_chol[i,RC[i]] < RC_scores_chol[i,:]) \n",
    " for i in range(RC_scores_chol.shape[0])]\n",
    "\n",
    "draw_hist(RC_rank_Chol, RC_rank_Zscore, 'Cholesky', 'Zscore', bar_width_para=3)"
   ]
  },
  {
   "cell_type": "markdown",
   "id": "a5b2d2e9-bb90-49e7-a14f-e718992782f6",
   "metadata": {},
   "source": [
    "### Observations:\n",
    "- for given small s_B, Chol is much better than Zscore for small int_mean (e.g., int_mean = 10). As int_mean increase (e.g., 100), both methods can find most RCs, because in sparse setting for Zscore the identifiability condition typically holds, and here we simply randomly assign RCs.\n",
    "- The performance of Zsocre getting worse as s_B getting larger, but not super bad (for int_mean=100. s_B=0.3: 100 91; s_B=0.9: 100 77).\n",
    "\n",
    "Why Chol can be much better even though we use var_X_min = 20, var_X_max = 40, and int_mean = 10 ? where is the gain from?"
   ]
  },
  {
   "cell_type": "code",
   "execution_count": null,
   "id": "24136b21-967a-4c9e-a8e1-3f572d9b518a",
   "metadata": {},
   "outputs": [],
   "source": []
  },
  {
   "cell_type": "markdown",
   "id": "fccc6db0-536c-40ac-91fc-f46ea4c652c7",
   "metadata": {},
   "source": [
    "#### 2. Hub DAG case: same simulation as above but using another DAG"
   ]
  },
  {
   "cell_type": "code",
   "execution_count": 5,
   "id": "7bec26ea-961d-477b-9456-253f8b19dca0",
   "metadata": {},
   "outputs": [
    {
     "name": "stdout",
     "output_type": "stream",
     "text": [
      "p is 104\n"
     ]
    }
   ],
   "source": [
    "np.random.seed(2024)\n",
    "\n",
    "### Parameters for B_hub\n",
    "num_hub = 4 # same number of upper and lower blocks\n",
    "s_B = 0.3\n",
    "B_value_min = -1\n",
    "B_value_max = 1\n",
    "err_min = 1\n",
    "err_max = 5\n",
    "var_X_min = 10\n",
    "var_X_max = 50\n",
    "\n",
    "size_up_block = 15\n",
    "size_low_block = 10\n",
    "intersect_prop = 0.3\n",
    "\n",
    "dag_type = \"hub\"\n",
    "\n",
    "B, sigma2_error, b = generate_setting(dag_type, s_B, B_value_min, B_value_max, err_min, err_max, var_X_min, var_X_max,\n",
    "                                      num_hub=num_hub, size_up_block=size_up_block, \n",
    "                                      size_low_block=size_low_block, intersect_prop=intersect_prop)\n",
    "p = len(b)\n",
    "print(f\"p is {p}\")\n",
    "\n",
    "# G = nx.DiGraph(B!=0)\n",
    "# nx.draw_kamada_kawai(G, with_labels=False, node_size=25)"
   ]
  },
  {
   "cell_type": "code",
   "execution_count": 3,
   "id": "49a8f0d0-d819-46b1-be78-b34eebaf8a80",
   "metadata": {},
   "outputs": [
    {
     "name": "stdout",
     "output_type": "stream",
     "text": [
      "(200, 52) (100, 52)\n"
     ]
    }
   ],
   "source": [
    "n = 200\n",
    "m = 100\n",
    "int_mean = 15\n",
    "int_sd = 1\n",
    "X_obs, X_int_all, RC = generate_data(n, m, p, B, sigma2_error, b, int_mean, int_sd)\n",
    "print(X_obs.shape, X_int_all.shape)"
   ]
  },
  {
   "cell_type": "code",
   "execution_count": 4,
   "id": "4bc9f228-1f9c-4871-9347-e4bd1a6cbb5b",
   "metadata": {},
   "outputs": [],
   "source": [
    "Zscores = zscore(X_obs, X_int_all)\n",
    "#print(np.round(Zscores, 1))\n",
    "max_index_Zscore = [np.argmax(Zscores[i,:]) for i in range(Zscores.shape[0])]"
   ]
  },
  {
   "cell_type": "code",
   "execution_count": 5,
   "id": "81924208-b5c1-4287-b2fd-8758434d22b9",
   "metadata": {},
   "outputs": [
    {
     "name": "stderr",
     "output_type": "stream",
     "text": [
      "100it [02:34,  1.55s/it]\n"
     ]
    }
   ],
   "source": [
    "RC_scores_chol = np.zeros((X_int_all.shape))\n",
    "for i, X_int in tqdm(enumerate(X_int_all)):\n",
    "    thresholds = np.arange(0.1, min([5,max(Zscores[i,:])-0.0001]), 0.2)\n",
    "    RC_scores_chol[i,:] = root_cause_discovery_main(X_obs, X_int, thresholds, nshuffles=5, verbose=False)\n",
    "\n",
    "#print(np.round(RC_scores_chol, 1))\n",
    "max_index_Chol = [np.argmax(RC_scores_chol[i,:]) for i in range(RC_scores_chol.shape[0])]"
   ]
  },
  {
   "cell_type": "code",
   "execution_count": 6,
   "id": "59778974-c287-4330-88c0-f357b08eb40a",
   "metadata": {},
   "outputs": [
    {
     "name": "stdout",
     "output_type": "stream",
     "text": [
      "84 53\n"
     ]
    }
   ],
   "source": [
    "# a quick look at how for how many interventional smaples each method sucessfully find the RC \n",
    "num_success_Zscore = sum(x == y for x, y in zip(max_index_Zscore, RC))\n",
    "num_success_Chol = sum(x == y for x, y in zip(max_index_Chol, RC))\n",
    "print(num_success_Chol, num_success_Zscore)\n",
    "\n",
    "# df = pd.DataFrame({\"RC\":RC, \"Zscore\": max_index_Zscore, \"Chol\": max_index_Chol})\n",
    "# pd.set_option('display.max_columns', None)\n",
    "# pd.set_option('display.max_rows', None)\n",
    "# print(df.to_string(index=False))"
   ]
  },
  {
   "cell_type": "code",
   "execution_count": 7,
   "id": "67ab4aa0-b421-4d7d-b2ac-a8f4ca8c98ae",
   "metadata": {},
   "outputs": [
    {
     "data": {
      "image/png": "[encoded data removed]",
      "text/plain": [
       "<Figure size 1000x600 with 1 Axes>"
      ]
     },
     "metadata": {},
     "output_type": "display_data"
    }
   ],
   "source": [
    "RC_rank_Zscore = [np.sum(Zscores[i,RC[i]] < Zscores[i,:]) \n",
    " for i in range(Zscores.shape[0])]\n",
    "\n",
    "RC_rank_Chol = [np.sum(RC_scores_chol[i,RC[i]] < RC_scores_chol[i,:]) \n",
    " for i in range(RC_scores_chol.shape[0])]\n",
    "\n",
    "draw_hist(RC_rank_Chol, RC_rank_Zscore, 'Cholesky', 'Zscore', bar_width_para=6)"
   ]
  },
  {
   "cell_type": "code",
   "execution_count": null,
   "id": "4979b144-09e7-4176-9a58-83977896ffb6",
   "metadata": {},
   "outputs": [],
   "source": []
  },
  {
   "cell_type": "markdown",
   "id": "2bce1911-4a85-4368-acc7-1b5b1ca4ab3b",
   "metadata": {},
   "source": [
    "### 3. High-dimensional setting"
   ]
  },
  {
   "cell_type": "code",
   "execution_count": 22,
   "id": "185cc343-db8c-468f-8494-44b6069b295b",
   "metadata": {},
   "outputs": [],
   "source": [
    "# random DAG\n",
    "# np.random.seed(2024)\n",
    "\n",
    "# ############## Generate b, B and sigma2_error used in the SEM\n",
    "# p = 500\n",
    "# s_B = 0.03\n",
    "# B_value_min = -1\n",
    "# B_value_max = 1\n",
    "# err_min = 1\n",
    "# err_max = 5\n",
    "# var_X_min = 10\n",
    "# var_X_max = 50\n",
    "# dag_type = \"random\"\n",
    "\n",
    "# B, sigma2_error, b = generate_setting(dag_type, s_B, B_value_min, B_value_max, err_min, err_max, var_X_min, var_X_max, p)"
   ]
  },
  {
   "cell_type": "code",
   "execution_count": 2,
   "id": "a0579439-8358-4b62-b6be-b860e7da5def",
   "metadata": {},
   "outputs": [
    {
     "name": "stdout",
     "output_type": "stream",
     "text": [
      "p is 510\n"
     ]
    }
   ],
   "source": [
    "# hub DAG\n",
    "np.random.seed(2024)\n",
    "\n",
    "### Parameters for B_hub\n",
    "num_hub = 10 # same number of upper and lower blocks\n",
    "s_B = 0.4\n",
    "B_value_min = -1\n",
    "B_value_max = 1\n",
    "err_min = 1\n",
    "err_max = 5\n",
    "var_X_min = 10\n",
    "var_X_max = 50\n",
    "\n",
    "size_up_block = 30\n",
    "size_low_block = 20\n",
    "intersect_prop = 0.3\n",
    "\n",
    "dag_type = \"hub\"\n",
    "\n",
    "B, sigma2_error, b = generate_setting(dag_type, s_B, B_value_min, B_value_max, err_min, err_max, var_X_min, var_X_max,\n",
    "                                      num_hub=num_hub, size_up_block=size_up_block, \n",
    "                                      size_low_block=size_low_block, intersect_prop=intersect_prop)\n",
    "p = len(b)\n",
    "print(f\"p is {p}\")"
   ]
  },
  {
   "cell_type": "code",
   "execution_count": 3,
   "id": "2d163873-2b84-4e4f-a0a9-2b4c3cfa5de9",
   "metadata": {},
   "outputs": [
    {
     "data": {
      "text/plain": [
       "0.07221068819684737"
      ]
     },
     "execution_count": 3,
     "metadata": {},
     "output_type": "execute_result"
    }
   ],
   "source": [
    "# check the 'sparsity' wrt precision matrix\n",
    "I = np.eye(p)\n",
    "Precision_mat = (I - B).T @ np.diag(1/np.diag(sigma2_error)) @ (I - B)\n",
    "np.sum(Precision_mat != 0 ) / p**2"
   ]
  },
  {
   "cell_type": "code",
   "execution_count": 4,
   "id": "c31a37dc-b930-4a59-90f1-2d866b080061",
   "metadata": {},
   "outputs": [
    {
     "name": "stdout",
     "output_type": "stream",
     "text": [
      "(100, 510) (30, 510)\n"
     ]
    }
   ],
   "source": [
    "n = 100\n",
    "m = 30\n",
    "int_mean = 15\n",
    "int_sd = 1\n",
    "\n",
    "X_obs, X_int_all, RC = generate_data(n, m, p, B, sigma2_error, b, int_mean, int_sd)\n",
    "print(X_obs.shape, X_int_all.shape)"
   ]
  },
  {
   "cell_type": "code",
   "execution_count": 5,
   "id": "4d09bac5-4e5e-4f47-aa16-ecae53167917",
   "metadata": {},
   "outputs": [
    {
     "name": "stdout",
     "output_type": "stream",
     "text": [
      "m is 30  Zscore has 5 successes\n",
      "RC_rank_Zscore=[9, 2, 90, 4, 8, 67, 10, 6, 81, 10, 137, 10, 2, 0, 1, 6, 0, 0, 1, 1, 107, 165, 5, 6, 73, 0, 62, 14, 0, 30]\n"
     ]
    }
   ],
   "source": [
    "# performance of Zscore method\n",
    "Zscores = zscore(X_obs, X_int_all)\n",
    "#print(np.round(Zscores, 1))\n",
    "max_index_Zscore = [np.argmax(Zscores[i,:]) for i in range(Zscores.shape[0])]\n",
    "\n",
    "num_success_Zscore = sum(x == y for x, y in zip(max_index_Zscore, RC))\n",
    "\n",
    "RC_rank_Zscore = [np.sum(Zscores[i,RC[i]] < Zscores[i,:]) \n",
    " for i in range(Zscores.shape[0])]\n",
    "\n",
    "print(\"m is\", m, \" Zscore has\",num_success_Zscore,\"successes\")\n",
    "print(f\"{RC_rank_Zscore=}\")"
   ]
  },
  {
   "cell_type": "markdown",
   "id": "34ce1e51-7b32-417e-aa47-8d8dfcf12f74",
   "metadata": {},
   "source": [
    "### Try our method for one interventional sample: pick one Zscore is bad"
   ]
  },
  {
   "cell_type": "code",
   "execution_count": 6,
   "id": "6199d154-21dc-4430-b930-4ccf1371d5c8",
   "metadata": {},
   "outputs": [
    {
     "name": "stdout",
     "output_type": "stream",
     "text": [
      "len(y_indices)=145\n",
      "RC is in y_indices\n",
      "z[RC[int_sample_idx]]=2.350100129014883\n"
     ]
    }
   ],
   "source": [
    "int_sample_idx = 2\n",
    "\n",
    "X_int = X_int_all[int_sample_idx,:]\n",
    "method = \"largest_support\"\n",
    "verbose = False\n",
    "nshuffles = 5\n",
    "\n",
    "y_idx_z_threshold = 1.5    # this can also be put in a for loop? or make it very small? Check whether real data still good with this to be 0\n",
    "\n",
    "z = zscore(X_obs, X_int)\n",
    "y_indices = np.where(z > y_idx_z_threshold)[0]\n",
    "\n",
    "print(f\"{len(y_indices)=}\")\n",
    "\n",
    "if RC[int_sample_idx] in y_indices:\n",
    "    print(\"RC is in y_indices\")\n",
    "\n",
    "print(f\"{z[RC[int_sample_idx]]=}\")"
   ]
  },
  {
   "cell_type": "code",
   "execution_count": 7,
   "id": "b5c34cb9-ddb2-4474-9814-7d0319d37988",
   "metadata": {},
   "outputs": [
    {
     "name": "stdout",
     "output_type": "stream",
     "text": [
      "match\n"
     ]
    }
   ],
   "source": [
    "# run partial procedure to check whether we found a match when treating the true RC as response\n",
    "y_idx = RC[int_sample_idx]\n",
    "\n",
    "X_obs_new, X_int_sample_new, selected_idx = reduce_dimension(y_idx, X_obs, X_int, method, verbose)\n",
    "\n",
    "z_new = zscore(X_obs_new, X_int_sample_new)\n",
    "\n",
    "thresholds = np.arange(0.1, min([5,max(z_new)-0.0001]), 0.2)\n",
    "\n",
    "best_Xtilde = 0\n",
    "best_OneNonZero_quantification = 0\n",
    "for threshold in thresholds:\n",
    "    # compute permutations to try\n",
    "    permutations = compute_permutations(z_new, threshold=threshold, nshuffles=nshuffles)\n",
    "    if verbose:\n",
    "        print(\"Trying\", len(permutations), \"permutations for threshold\", threshold)\n",
    "\n",
    "    # try all permutations to calculate 'Xtilde'\n",
    "    for perm in permutations:\n",
    "        Xtilde = root_cause_discovery(X_obs_new, X_int_sample_new, perm)\n",
    "        sorted_X = sorted(Xtilde)\n",
    "        OneNonZero_quantification = (sorted_X[-1] - sorted_X[-2]) / sorted_X[-2]\n",
    "        \n",
    "        if z_new[np.argmax(Xtilde)] > y_idx_z_threshold and OneNonZero_quantification > best_OneNonZero_quantification:\n",
    "            best_Xtilde = Xtilde\n",
    "            best_OneNonZero_quantification = OneNonZero_quantification\n",
    "if max(best_Xtilde) == best_Xtilde[-1]:\n",
    "    print(\"match\")"
   ]
  },
  {
   "cell_type": "code",
   "execution_count": 8,
   "id": "80fecf71-ec34-4e14-b953-c97e0f2c4788",
   "metadata": {},
   "outputs": [
    {
     "name": "stderr",
     "output_type": "stream",
     "text": [
      "100%|█████████████████████████████████████████| 145/145 [02:58<00:00,  1.23s/it]\n"
     ]
    }
   ],
   "source": [
    "# run our method using oracle MD based on 'Precision_mat' (error is Gaussian so we can do this)\n",
    "# This is to check the performence when MD can be well-estimated (try simulatio using large int_mean)\n",
    "\n",
    "root_cause_score2 = np.zeros(p)\n",
    "for y_idx in tqdm(y_indices):\n",
    "    MB = np.where(Precision_mat[:, y_idx] != 0 )[0]\n",
    "    MB = np.delete(MB, np.where(MB == y_idx)[0][0])\n",
    "    MB = np.append(MB, y_idx) # put y_idx in the end\n",
    "    X_obs_new = X_obs[:, MB]\n",
    "    X_int_sample_new = X_int[MB]\n",
    "    \n",
    "    z_new = zscore(X_obs_new, X_int_sample_new)\n",
    "    \n",
    "    thresholds = np.arange(0.1, min([5, max(z_new)-0.0001]), 0.2)\n",
    "    best_Xtilde = 0\n",
    "    best_OneNonZero_quantification = 0\n",
    "    for threshold in thresholds:\n",
    "        # compute permutations to try\n",
    "        permutations = compute_permutations(z_new, threshold=threshold, nshuffles=nshuffles)\n",
    "        if verbose:\n",
    "            print(\"Trying\", len(permutations), \"permutations for threshold\", threshold)\n",
    "    \n",
    "        # try all permutations to calculate 'Xtilde'\n",
    "        for perm in permutations:\n",
    "            Xtilde = root_cause_discovery(X_obs_new, X_int_sample_new, perm)\n",
    "            sorted_X = sorted(Xtilde)\n",
    "            OneNonZero_quantification = (sorted_X[-1] - sorted_X[-2]) / sorted_X[-2]\n",
    "            \n",
    "            if z_new[np.argmax(Xtilde)] > y_idx_z_threshold and OneNonZero_quantification > best_OneNonZero_quantification:\n",
    "                best_Xtilde = Xtilde\n",
    "                best_OneNonZero_quantification = OneNonZero_quantification\n",
    "\n",
    "    if not isinstance(best_Xtilde, int):\n",
    "        if max(best_Xtilde) == best_Xtilde[-1]: # if match y_idx \n",
    "            root_cause_score2[y_idx] = best_OneNonZero_quantification\n",
    "\n",
    "# assign final root cause score for variables that never had maximal Xtilde_i\n",
    "idx2 = np.where(root_cause_score2 == 0)[0]\n",
    "if len(idx2) != 0:\n",
    "    idx1 = np.where(root_cause_score2 != 0)[0]\n",
    "    max_RC_score_idx2 = np.min(root_cause_score2[idx1]) - 0.0001\n",
    "    root_cause_score2[idx2] = z[idx2] / (np.max(z[idx2]) / max_RC_score_idx2)"
   ]
  },
  {
   "cell_type": "code",
   "execution_count": 9,
   "id": "3055bf86-859f-4666-a6d4-5e23abb30174",
   "metadata": {},
   "outputs": [
    {
     "name": "stdout",
     "output_type": "stream",
     "text": [
      "Rank of RC using zScore is 90\n",
      "Rank of RC using CholScore is 2\n"
     ]
    }
   ],
   "source": [
    "# rank of the true RC using root_cause_score2 with oracle MB\n",
    "print(\"Rank of RC using zScore is\", np.sum(z>z[RC[int_sample_idx]]))\n",
    "print(\"Rank of RC using CholScore is\", np.sum(root_cause_score2 > np.round(root_cause_score2)[RC[int_sample_idx]]))"
   ]
  },
  {
   "cell_type": "code",
   "execution_count": 10,
   "id": "7b0e5f05-71a0-448f-afaa-98004e304a9d",
   "metadata": {},
   "outputs": [
    {
     "name": "stderr",
     "output_type": "stream",
     "text": [
      "100%|█████████████████████████████████████████| 145/145 [24:16<00:00, 10.05s/it]\n"
     ]
    }
   ],
   "source": [
    "# run standard procedure for one interventional sample using estimated MB by Lasso, can be computationally expensive!\n",
    "# the difference performances compared to above is due to the estimated MB (lasso largest-support)\n",
    "\n",
    "root_cause_score = np.zeros(p)\n",
    "for y_idx in tqdm(y_indices):\n",
    "    X_obs_new, X_int_sample_new, selected_idx = reduce_dimension(y_idx, X_obs, X_int, method, verbose)\n",
    "    \n",
    "    z_new = zscore(X_obs_new, X_int_sample_new)\n",
    "\n",
    "    thresholds = np.arange(0.1, min([5, max(z_new)-0.0001]), 0.2)\n",
    "    \n",
    "    best_Xtilde = 0\n",
    "    best_OneNonZero_quantification = 0\n",
    "    for threshold in thresholds:\n",
    "        # compute permutations to try\n",
    "        permutations = compute_permutations(z_new, threshold=threshold, nshuffles=nshuffles)\n",
    "        if verbose:\n",
    "            print(\"Trying\", len(permutations), \"permutations for threshold\", threshold)\n",
    "    \n",
    "        # try all permutations to calculate 'Xtilde'\n",
    "        for perm in permutations:\n",
    "            Xtilde = root_cause_discovery(X_obs_new, X_int_sample_new, perm)\n",
    "            sorted_X = sorted(Xtilde)\n",
    "            OneNonZero_quantification = (sorted_X[-1] - sorted_X[-2]) / sorted_X[-2]\n",
    "            \n",
    "            if z_new[np.argmax(Xtilde)] > y_idx_z_threshold and OneNonZero_quantification > best_OneNonZero_quantification:\n",
    "                best_Xtilde = Xtilde\n",
    "                best_OneNonZero_quantification = OneNonZero_quantification\n",
    "\n",
    "    if not isinstance(best_Xtilde, int):\n",
    "        if max(best_Xtilde) == best_Xtilde[-1]: # if match y_idx \n",
    "            root_cause_score[y_idx] = best_OneNonZero_quantification\n",
    "\n",
    "# assign final root cause score for variables that never had maximal Xtilde_i\n",
    "idx2 = np.where(root_cause_score == 0)[0]\n",
    "if len(idx2) != 0:\n",
    "    idx1 = np.where(root_cause_score != 0)[0]\n",
    "    max_RC_score_idx2 = np.min(root_cause_score[idx1]) - 0.0001\n",
    "    root_cause_score[idx2] = z[idx2] / (np.max(z[idx2]) / max_RC_score_idx2)"
   ]
  },
  {
   "cell_type": "code",
   "execution_count": 11,
   "id": "229252bd-4cfc-4ec3-b8b1-bb583e0c4b16",
   "metadata": {},
   "outputs": [
    {
     "name": "stdout",
     "output_type": "stream",
     "text": [
      "Rank of RC using zScore is 90\n",
      "Rank of RC using CholScore is 6\n"
     ]
    }
   ],
   "source": [
    "# rank of the true RC using root_cause_score\n",
    "print(\"Rank of RC using zScore is\", np.sum(z>z[RC[int_sample_idx]]))\n",
    "print(\"Rank of RC using CholScore is\", np.sum(root_cause_score > np.round(root_cause_score)[RC[int_sample_idx]]))"
   ]
  },
  {
   "cell_type": "code",
   "execution_count": null,
   "id": "81176989-c2ca-462e-9d11-50f187871ee0",
   "metadata": {},
   "outputs": [],
   "source": [
    "# sometimes the performance using estimated MB is better than using the true MB..."
   ]
  }
 ],
 "metadata": {
  "kernelspec": {
   "display_name": "Python 3 (ipykernel)",
   "language": "python",
   "name": "python3"
  },
  "language_info": {
   "codemirror_mode": {
    "name": "ipython",
    "version": 3
   },
   "file_extension": ".py",
   "mimetype": "text/x-python",
   "name": "python",
   "nbconvert_exporter": "python",
   "pygments_lexer": "ipython3",
   "version": "3.9.18"
  }
 },
 "nbformat": 4,
 "nbformat_minor": 5
}
