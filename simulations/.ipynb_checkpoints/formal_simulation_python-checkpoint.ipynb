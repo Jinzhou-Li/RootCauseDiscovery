{
 "cells": [
  {
   "cell_type": "markdown",
   "id": "dff9041d",
   "metadata": {},
   "source": [
    "# Simulation code for Root Cause Discovery\n",
    "\n",
    "We perform 3 simulations: the first two is in low-dimensional setting, while the last mimicks our real data analysis (high-dimensional setting). All simulation uses the following model\n",
    "\n",
    "+ X <- mu_x+ BX +error + delta, \n",
    "+ X = (I-B)^{-1}* (mu_x + error + delta), \n",
    "\n",
    "with different kinds of B."
   ]
  },
  {
   "cell_type": "code",
   "execution_count": 8,
   "id": "7143008e",
   "metadata": {},
   "outputs": [],
   "source": [
    "import os\n",
    "import subprocess\n",
    "from math import ceil\n",
    "\n",
    "def submit(command, ncores, total_mem, joblog_dir, jobname=\"submit\"):\n",
    "    mem = ceil(total_mem / ncores)  # memory per core\n",
    "    filename = f\"{jobname}.sh\"\n",
    "    with open(filename, \"w\") as io:\n",
    "        io.write(\"#!/bin/bash\\n\")\n",
    "        io.write(\"#\\n\")\n",
    "        io.write(f\"#SBATCH --job-name={jobname}\\n\")\n",
    "        io.write(\"#\\n\")\n",
    "        io.write(\"#SBATCH --time=48:00:00\\n\")\n",
    "        io.write(f\"#SBATCH --cpus-per-task={ncores}\\n\")\n",
    "        io.write(f\"#SBATCH --mem-per-cpu={mem}G\\n\")\n",
    "        io.write(\"#SBATCH --partition=candes,owners\\n\")\n",
    "        io.write(f\"#SBATCH --output={os.path.join(joblog_dir, 'slurm-%j.out')}\\n\")\n",
    "        io.write(\"\\n\")\n",
    "        io.write(\"#save job info on joblog:\\n\")\n",
    "        io.write(\"echo \\\"Job $JOB_ID started on:   \\\" `hostname -s`\\n\")\n",
    "        io.write(\"echo \\\"Job $JOB_ID started on:   \\\" `date `\\n\")\n",
    "        io.write(\"\\n\")\n",
    "        io.write(\"# load the job environment:\\n\")\n",
    "        io.write(\"module load python/3.9\\n\")\n",
    "        io.write(\"\\n\")\n",
    "        io.write(\"# run code\\n\")\n",
    "        io.write(f\"echo \\\"{command}\\\"\\n\")\n",
    "        io.write(f\"{command}\\n\")\n",
    "        io.write(\"\\n\")\n",
    "        io.write(\"#echo job info on joblog:\\n\")\n",
    "        io.write(\"echo \\\"Job $JOB_ID ended on:   \\\" `hostname -s`\\n\")\n",
    "        io.write(\"echo \\\"Job $JOB_ID ended on:   \\\" `date `\\n\")\n",
    "        io.write(\"#echo \\\" \\\"\\n\")\n",
    "    \n",
    "    # submit job\n",
    "    subprocess.run([\"sbatch\", filename])\n",
    "    # clean up\n",
    "    os.remove(filename)\n",
    "    return None"
   ]
  },
  {
   "cell_type": "markdown",
   "id": "69dc9132",
   "metadata": {},
   "source": [
    "## Simulation 1"
   ]
  },
  {
   "cell_type": "code",
   "execution_count": null,
   "id": "fae27b88",
   "metadata": {},
   "outputs": [],
   "source": [
    "# put in file sim1.py\n",
    "# usage: python3 sim1.py arg1 arg2 arg3 arg4\n",
    "from ../python/root_cause_discovery_funcs import *\n",
    "from ../python/simulation_setting_func import *\n",
    "import numpy as np\n",
    "import pandas as pd\n",
    "import warnings  # ignore the warnings\n",
    "from collections import Counter\n",
    "import sys\n",
    "import os\n",
    "\n",
    "# parameters for simulation\n",
    "s_B = float(sys.argv[1])      # 0.2, 0.4, or 0.6\n",
    "int_mean = int(sys.argv[2])   # 10, 15, or 20\n",
    "replicate = int(sys.argv[3])  # 1 to 10\n",
    "outdir = sys.argv[4]          # output directory\n",
    "if not os.path.isdir(outdir):\n",
    "    os.mkdir(outdir)\n",
    "\n",
    "# other fixed parameters\n",
    "p = 100\n",
    "n = 200\n",
    "m = 100\n",
    "int_sd = 1\n",
    "nshuffles = 10\n",
    "B_value_min = -1\n",
    "B_value_max = 1\n",
    "err_min = 1\n",
    "err_max = 5\n",
    "var_X_min = 10\n",
    "var_X_max = 50\n",
    "sim_total = 10\n",
    "dag_type = \"random\"\n",
    "\n",
    "# generate data\n",
    "np.random.seed(replicate)\n",
    "B, sigma2_error, b = generate_setting(dag_type, s_B, B_value_min, B_value_max, err_min, err_max, var_X_min, var_X_max, p)\n",
    "\n",
    "# try 10 simulations within 1 replicate\n",
    "for sim in range(sim_total):\n",
    "    np.random.seed(sim)\n",
    "    X_obs, X_int_all, RC = generate_data(n, m, p, B, sigma2_error, b, int_mean, int_sd)\n",
    "\n",
    "    # z score method\n",
    "    Zscores = zscore(X_obs, X_int_all)\n",
    "\n",
    "    # cholesky score method\n",
    "    RC_scores_chol = np.zeros((X_int_all.shape))\n",
    "    for i, X_int in enumerate(X_int_all):\n",
    "        # set thresholds based on Zscore[i]\n",
    "        thresholds = np.arange(0.1, min([5,max(Zscores[i,:])-0.0001]), 0.2)\n",
    "        RC_scores_chol[i,:] = root_cause_discovery_main(X_obs, X_int, thresholds, nshuffles=nshuffles, verbose=False)\n",
    "\n",
    "    # save simulation result\n",
    "    outfile = os.path.join(outdir, \"sim\" + str(sim) + '.npz')\n",
    "    np.savez(outfile, array1=RC, array2=Zscores, array3=RC_scores_chol)\n",
    "    # to load\n",
    "    # result = np.load(\"sim0.npz\")\n",
    "    # result[\"array1\"]\n",
    "\n",
    "print('Done!')"
   ]
  },
  {
   "cell_type": "markdown",
   "id": "73451af9",
   "metadata": {},
   "source": [
    "Submit jobs"
   ]
  },
  {
   "cell_type": "code",
   "execution_count": 9,
   "id": "012d190e",
   "metadata": {},
   "outputs": [
    {
     "name": "stdout",
     "output_type": "stream",
     "text": [
      "Submitted batch job 47370703\n"
     ]
    }
   ],
   "source": [
    "python_exe = \"/home/users/bbchu/RootCauseDiscovery/simulations/sim1.py\"\n",
    "s_B = 0.2\n",
    "int_mean = 10\n",
    "replicate = 1\n",
    "outdir = \"/home/users/bbchu/RootCauseDiscovery/simulations/replicate1\"\n",
    "cmd = f\"python3 {python_exe} {s_B} {int_mean} {replicate} {outdir}\"\n",
    "\n",
    "# 1 core, 12 GB\n",
    "joblog_dir = \"/home/users/bbchu/RootCauseDiscovery/simulations/joblogs\"\n",
    "jobname = f\"rep{replicate}\"\n",
    "submit(cmd, 1, 12, joblog_dir, jobname)"
   ]
  },
  {
   "cell_type": "code",
   "execution_count": null,
   "id": "dd558a35",
   "metadata": {},
   "outputs": [],
   "source": []
  }
 ],
 "metadata": {
  "kernelspec": {
   "display_name": "Python 3 (ipykernel)",
   "language": "python",
   "name": "python3"
  },
  "language_info": {
   "codemirror_mode": {
    "name": "ipython",
    "version": 3
   },
   "file_extension": ".py",
   "mimetype": "text/x-python",
   "name": "python",
   "nbconvert_exporter": "python",
   "pygments_lexer": "ipython3",
   "version": "3.9.0"
  }
 },
 "nbformat": 4,
 "nbformat_minor": 5
}
