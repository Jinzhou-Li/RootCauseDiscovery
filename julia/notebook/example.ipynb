{
 "cells": [
  {
   "cell_type": "markdown",
   "id": "e6b6fced",
   "metadata": {},
   "source": [
    "# Examples of running Root Cause Discovery in Julia"
   ]
  },
  {
   "cell_type": "markdown",
   "id": "0d17fd19",
   "metadata": {},
   "source": [
    "First, install all necessary packages for this tutorial:"
   ]
  },
  {
   "cell_type": "code",
   "execution_count": 1,
   "id": "af99c8e0",
   "metadata": {
    "scrolled": true
   },
   "outputs": [
    {
     "name": "stderr",
     "output_type": "stream",
     "text": [
      "\u001b[32m\u001b[1m    Updating\u001b[22m\u001b[39m git-repo `https://github.com/Jinzhou-Li/RootCauseDiscovery.git`\n",
      "\u001b[32m\u001b[1m   Resolving\u001b[22m\u001b[39m package versions...\n",
      "\u001b[32m\u001b[1m  No Changes\u001b[22m\u001b[39m to `/home/groups/sabatti/.julia/environments/v1.10/Project.toml`\n",
      "\u001b[32m\u001b[1m  No Changes\u001b[22m\u001b[39m to `/home/groups/sabatti/.julia/environments/v1.10/Manifest.toml`\n",
      "\u001b[32m\u001b[1m   Resolving\u001b[22m\u001b[39m package versions...\n",
      "\u001b[32m\u001b[1m  No Changes\u001b[22m\u001b[39m to `/home/groups/sabatti/.julia/environments/v1.10/Project.toml`\n",
      "\u001b[32m\u001b[1m  No Changes\u001b[22m\u001b[39m to `/home/groups/sabatti/.julia/environments/v1.10/Manifest.toml`\n"
     ]
    }
   ],
   "source": [
    "using Pkg\n",
    "Pkg.add(PackageSpec(url=\"https://github.com/Jinzhou-Li/RootCauseDiscovery.git\", subdir=\"julia\"))\n",
    "pkg\"add CSV DataFrames DelimitedFiles Random Distributions\""
   ]
  },
  {
   "cell_type": "markdown",
   "id": "dec5cb96",
   "metadata": {},
   "source": [
    "Now load all necessary packages"
   ]
  },
  {
   "cell_type": "code",
   "execution_count": 2,
   "id": "ba537848",
   "metadata": {},
   "outputs": [],
   "source": [
    "using RootCauseDiscovery\n",
    "using DataFrames\n",
    "using CSV\n",
    "using DelimitedFiles\n",
    "using Random\n",
    "using Distributions"
   ]
  },
  {
   "cell_type": "markdown",
   "id": "a667e716",
   "metadata": {},
   "source": [
    "## Example 1 in our paper\n",
    "\n",
    "First simulation observational data"
   ]
  },
  {
   "cell_type": "code",
   "execution_count": 3,
   "id": "6f6cf7c9",
   "metadata": {},
   "outputs": [
    {
     "name": "stdout",
     "output_type": "stream",
     "text": [
      "sigma_k ^ 2 + gamma ^ 2 * sigma_C ^ 2 + 2 * alpha * beta * gamma * sigma_C ^ 2 = -2\n"
     ]
    },
    {
     "data": {
      "text/plain": [
       "500×3 Matrix{Float64}:\n",
       " 11.7749   33.2377  -11.0605\n",
       " 10.2999   30.9394  -10.2166\n",
       "  7.64437  24.1637   -4.30992\n",
       " 10.6465   31.2668  -10.1584\n",
       "  9.60473  29.0874  -11.8339\n",
       "  9.71713  29.4703   -9.60271\n",
       "  9.4181   29.5954   -9.52052\n",
       "  9.43421  26.4391   -6.26241\n",
       "  9.99574  31.3675  -10.6651\n",
       "  9.28728  31.6905  -11.9375\n",
       "  9.54214  28.3879  -10.1283\n",
       "  9.26575  27.9804   -8.39688\n",
       " 12.1383   34.9517  -12.945\n",
       "  ⋮                 \n",
       " 10.3674   30.8747   -9.80652\n",
       "  9.43913  28.5363  -10.4432\n",
       "  9.79669  29.0912   -9.39033\n",
       "  9.1604   27.1757   -9.13248\n",
       "  8.77839  24.9609   -5.91331\n",
       "  9.97182  30.8838  -11.3957\n",
       "  8.22934  26.7756   -9.84687\n",
       " 10.4741   29.713    -8.02177\n",
       "  8.59956  26.6469   -8.03789\n",
       "  9.58737  30.2365   -9.93392\n",
       "  9.30406  28.1135   -7.07729\n",
       " 10.4593   30.7137  -11.1154"
      ]
     },
     "execution_count": 3,
     "metadata": {},
     "output_type": "execute_result"
    }
   ],
   "source": [
    "p = 3    # number of gene\n",
    "n = 500  # number of samples\n",
    "m = 30   # number of interventional data\n",
    "\n",
    "b1 = 10\n",
    "b2 = 10\n",
    "b3 = 10\n",
    "\n",
    "sigma_C = 1\n",
    "sigma_j = 1\n",
    "sigma_k = 1\n",
    "alpha = -1\n",
    "beta = 2\n",
    "gamma = 1\n",
    "\n",
    "int_mean = 20\n",
    "int_sd = 1\n",
    "\n",
    "## check success condition\n",
    "@show sigma_k^2 + gamma^2 * sigma_C^2 + 2*alpha*beta*gamma*sigma_C^2\n",
    "\n",
    "## generate observational data\n",
    "C = fill(b1, n) + randn(n)\n",
    "Xj = fill(b2, n) + (beta  .* C  .+ randn(n))\n",
    "Xk = fill(b3, n) + (alpha .* Xj .+ gamma .* C .+ randn(n))\n",
    "Data_obs = [C Xj Xk]"
   ]
  },
  {
   "cell_type": "markdown",
   "id": "7ad5b7e3",
   "metadata": {},
   "source": [
    "Next simulation interventional data"
   ]
  },
  {
   "cell_type": "code",
   "execution_count": 4,
   "id": "6a3cfe29",
   "metadata": {},
   "outputs": [
    {
     "data": {
      "text/plain": [
       "30×3 Matrix{Float64}:\n",
       " 30.2648   70.5028  -30.2158\n",
       " 31.0169   71.9286  -29.0156\n",
       " 30.5716   72.15    -31.0863\n",
       " 28.9595   65.4909  -28.3884\n",
       " 29.5375   69.0942  -28.6559\n",
       " 30.7187   72.9984  -32.9171\n",
       " 30.8852   70.9372  -27.8639\n",
       " 28.7607   67.0083  -27.1495\n",
       " 32.1153   74.3822  -30.7306\n",
       " 30.6361   71.5663  -31.0648\n",
       " 10.1932   50.8628  -31.1493\n",
       " 10.5131   51.8016  -32.1184\n",
       "  9.39787  50.8825  -31.1033\n",
       "  ⋮                 \n",
       "  9.37807  49.5286  -29.952\n",
       "  9.45777  49.7125  -32.0673\n",
       "  8.62872  28.7689   10.4634\n",
       "  9.05468  27.1013   10.8782\n",
       " 10.2932   30.0656   10.4432\n",
       "  9.66403  28.5712   10.602\n",
       "  9.2411   27.8437   13.0132\n",
       "  9.2275   28.3324   10.1477\n",
       "  9.97503  29.6553    8.69068\n",
       " 11.5834   35.3329    7.36686\n",
       " 11.319    32.0129    8.79304\n",
       " 10.2686   30.7925   11.1374"
      ]
     },
     "execution_count": 4,
     "metadata": {},
     "output_type": "execute_result"
    }
   ],
   "source": [
    "## random intervention for each sample\n",
    "delta_C = zeros(m)\n",
    "delta_j = zeros(m)\n",
    "delta_k = zeros(m)\n",
    "\n",
    "Inter_target = vcat(ones(Int(m/3)), 2*ones(Int(m/3)), 3*ones(Int(m/3)))\n",
    "delta_C[findall(x -> x == 1, Inter_target)] .+= rand(Normal(int_mean, int_sd), Int(m/3))\n",
    "delta_j[findall(x -> x == 2, Inter_target)] .+= rand(Normal(int_mean, int_sd), Int(m/3))\n",
    "delta_k[findall(x -> x == 3, Inter_target)] .+= rand(Normal(int_mean, int_sd), Int(m/3))\n",
    "\n",
    "## generate interventional sample\n",
    "C_I = fill(b1, m) + randn(m) + delta_C\n",
    "Xj_I = fill(b2, m) + (beta  .* C_I   .+ randn(m)) + delta_j\n",
    "Xk_I = fill(b3, m) + (alpha .* Xj_I  .+ gamma .* C_I .+ randn(m)) + delta_k\n",
    "Data_int = [C_I Xj_I Xk_I]"
   ]
  },
  {
   "cell_type": "markdown",
   "id": "876ad00b",
   "metadata": {},
   "source": [
    "Lets try the squared z-score method. We simulated 30 patients where\n",
    "+ For the first 10 interventional samples, the root cause is the 1st variable\n",
    "+ For the next 10 interventional samples, the root cause is the 2nd variable\n",
    "+ For the last 10 interventional samples, the root cause is the 3rd variable"
   ]
  },
  {
   "cell_type": "code",
   "execution_count": 5,
   "id": "6cfc55b6",
   "metadata": {},
   "outputs": [
    {
     "data": {
      "text/plain": [
       "10×3 Matrix{Float64}:\n",
       " 415.662  330.988  133.729\n",
       " 446.984  354.62   118.324\n",
       " 428.303  358.362  145.493\n",
       " 363.999  254.387  110.648\n",
       " 386.455  308.443  113.89\n",
       " 434.428  372.886  171.85\n",
       " 441.416  338.103  104.427\n",
       " 356.431  276.516   96.2429\n",
       " 494.775  397.192  140.626\n",
       " 430.981  348.538  145.196"
      ]
     },
     "execution_count": 5,
     "metadata": {},
     "output_type": "execute_result"
    }
   ],
   "source": [
    "z = zscore(Data_obs, Data_int)\n",
    "\n",
    "# first col should be largest \n",
    "z[1:10, :] "
   ]
  },
  {
   "cell_type": "code",
   "execution_count": 6,
   "id": "9f592f9c",
   "metadata": {},
   "outputs": [
    {
     "data": {
      "text/plain": [
       "10×3 Matrix{Float64}:\n",
       " 0.0672721     88.3831  146.362\n",
       " 0.336613      96.4618  160.08\n",
       " 0.289644      88.5486  145.726\n",
       " 0.19664       76.4947  110.433\n",
       " 0.000887935   75.6477  104.472\n",
       " 0.535067     100.558   127.281\n",
       " 3.32548       60.9611  109.848\n",
       " 0.0536713    122.451   202.014\n",
       " 0.311412      77.51    130.262\n",
       " 0.228595      78.9666  159.342"
      ]
     },
     "execution_count": 6,
     "metadata": {},
     "output_type": "execute_result"
    }
   ],
   "source": [
    "# second col should be largest, but its not. \n",
    "# So the squared z-score method fails here\n",
    "z[11:20, :]"
   ]
  },
  {
   "cell_type": "code",
   "execution_count": 7,
   "id": "041f17d6",
   "metadata": {},
   "outputs": [
    {
     "data": {
      "text/plain": [
       "10×3 Matrix{Float64}:\n",
       " 1.71482     0.239229    136.945\n",
       " 0.778535    1.52682     142.553\n",
       " 0.129401    0.00834567  136.674\n",
       " 0.0735895   0.333654    138.807\n",
       " 0.483579    0.815942    173.204\n",
       " 0.502743    0.468609    132.752\n",
       " 0.00164859  0.0085285   114.243\n",
       " 2.73416     5.99875      98.6302\n",
       " 1.92746     0.927467    115.498\n",
       " 0.112256    0.173666    146.115"
      ]
     },
     "execution_count": 7,
     "metadata": {},
     "output_type": "execute_result"
    }
   ],
   "source": [
    "# third col should be largest\n",
    "z[21:30, :]"
   ]
  },
  {
   "cell_type": "markdown",
   "id": "d973e00d",
   "metadata": {},
   "source": [
    "Now try our proposed RC-score method "
   ]
  },
  {
   "cell_type": "code",
   "execution_count": 8,
   "id": "2c0e9290",
   "metadata": {},
   "outputs": [],
   "source": [
    "Xtilde_all = zeros(size(Data_int, 1), 3)\n",
    "for sample in 1:size(Data_int, 1)\n",
    "    Xint = Data_int[sample, :]\n",
    "    perm = collect(1:3)\n",
    "    Xtilde = RootCauseDiscovery.root_cause_discovery(Data_obs, Xint, perm)\n",
    "    Xtilde_all[sample, :] .= Xtilde\n",
    "end"
   ]
  },
  {
   "cell_type": "markdown",
   "id": "ffa0c8a3",
   "metadata": {},
   "source": [
    "First 10 interventional samples:"
   ]
  },
  {
   "cell_type": "code",
   "execution_count": 9,
   "id": "591415db",
   "metadata": {},
   "outputs": [
    {
     "data": {
      "text/plain": [
       "10×3 Matrix{Float64}:\n",
       " 20.3878  0.101183   0.182993\n",
       " 21.142   0.0286997  2.08749\n",
       " 20.6955  1.11808    0.691634\n",
       " 19.0787  2.2649     1.80149\n",
       " 19.6585  0.142053   1.07357\n",
       " 20.8429  1.66344    0.438719\n",
       " 21.0099  0.687042   2.36234\n",
       " 18.8794  0.385221   1.25507\n",
       " 22.2435  0.287266   1.73423\n",
       " 20.7601  0.418671   0.0347593"
      ]
     },
     "execution_count": 9,
     "metadata": {},
     "output_type": "execute_result"
    }
   ],
   "source": [
    "Xtilde_all[1:10, :]"
   ]
  },
  {
   "cell_type": "markdown",
   "id": "0c3c7321",
   "metadata": {},
   "source": [
    "Next 10 interventional samples. Note the 2nd column is the largest here, so the RC-score method works."
   ]
  },
  {
   "cell_type": "code",
   "execution_count": 10,
   "id": "20ae3d6d",
   "metadata": {},
   "outputs": [
    {
     "data": {
      "text/plain": [
       "10×3 Matrix{Float64}:\n",
       " 0.259369   20.12    0.18167\n",
       " 0.580183   20.4155  0.163878\n",
       " 0.538186   21.6968  1.09957\n",
       " 0.443442   18.3232  1.27874\n",
       " 0.0297982  19.1408  2.18092\n",
       " 0.731483   20.5728  2.59015\n",
       " 1.82359    20.6916  1.55593\n",
       " 0.231671   23.8261  0.340128\n",
       " 0.558043   20.4059  0.875614\n",
       " 0.478116   20.4305  1.16606"
      ]
     },
     "execution_count": 10,
     "metadata": {},
     "output_type": "execute_result"
    }
   ],
   "source": [
    "Xtilde_all[11:20, :]"
   ]
  },
  {
   "cell_type": "markdown",
   "id": "4822c2b6",
   "metadata": {},
   "source": [
    "Last 10 interventional samples"
   ]
  },
  {
   "cell_type": "code",
   "execution_count": 11,
   "id": "01a665ed",
   "metadata": {},
   "outputs": [
    {
     "data": {
      "text/plain": [
       "10×3 Matrix{Float64}:\n",
       " 1.30951    1.4842    21.0377\n",
       " 0.882346   0.987922  19.2609\n",
       " 0.359724   0.502062  20.5917\n",
       " 0.271274   0.737564  19.8645\n",
       " 0.695399   0.62382   22.0059\n",
       " 0.709043   0.117243  19.6204\n",
       " 0.0406029  0.28191   18.7232\n",
       " 1.65353    2.14454   21.5906\n",
       " 1.38833    0.598281  19.8531\n",
       " 0.335046   0.260015  22.0826"
      ]
     },
     "execution_count": 11,
     "metadata": {},
     "output_type": "execute_result"
    }
   ],
   "source": [
    "Xtilde_all[21:30, :]"
   ]
  },
  {
   "cell_type": "markdown",
   "id": "c79aa499",
   "metadata": {},
   "source": [
    "## Example 2: real data\n",
    "\n",
    "First we need to obtain QC'd gene expression data."
   ]
  },
  {
   "cell_type": "code",
   "execution_count": 12,
   "id": "1582f9d4",
   "metadata": {},
   "outputs": [
    {
     "name": "stderr",
     "output_type": "stream",
     "text": [
      "\u001b[32mProgress: 100%|█████████████████████████████████████████| Time: 0:01:53\u001b[39m\n"
     ]
    },
    {
     "data": {
      "text/plain": [
       "(\u001b[1m19736×60 DataFrame\n",
       "\u001b[1m   Row │\u001b[1m geneID          \u001b[1m R62943   \u001b[1m R98254     \u001b[1m R89912   \u001b[1m R19100     \u001b[1m R15264   ⋯\n",
       "       │\u001b[90m SubStrin…       \u001b[90m Float64  \u001b[90m Float64    \u001b[90m Float64  \u001b[90m Float64    \u001b[90m Float64  ⋯\n",
       "───────┼────────────────────────────────────────────────────────────────────────\n",
       "     1 │ ENSG00000000003  7.16243    7.28255    7.32937    7.31479    7.95855  ⋯\n",
       "     2 │ ENSG00000000419  7.52393    7.48436    7.57685    7.64937    7.62452\n",
       "     3 │ ENSG00000000457  6.15732    5.72704    5.63371    5.95707    6.30952\n",
       "     4 │ ENSG00000000460  5.75861    6.77764    5.66632    5.71676    5.60984\n",
       "     5 │ ENSG00000000971  6.71062    6.82252    7.63302    7.53938    7.64743  ⋯\n",
       "     6 │ ENSG00000001036  8.64898    8.73812    8.58827    8.6068     8.45188\n",
       "     7 │ ENSG00000001084  5.92993    6.59335    7.10089    6.76644    6.75437\n",
       "     8 │ ENSG00000001167  7.22844    7.35934    7.04254    7.07121    7.04258\n",
       "     9 │ ENSG00000001460  6.46056    6.59598    6.28598    6.29622    5.45405  ⋯\n",
       "    10 │ ENSG00000001461  8.02074    8.68536    8.38835    8.22963    7.78422\n",
       "    11 │ ENSG00000001497  7.08373    7.3971     7.0705     6.95622    6.85555\n",
       "   ⋮   │        ⋮            ⋮          ⋮          ⋮          ⋮          ⋮     ⋱\n",
       " 19727 │ ENSG00000288542  4.3098     2.44362    3.17605    4.02977    4.27155\n",
       " 19728 │ ENSG00000288550  6.48894    6.15108    7.15724    6.7612     6.76269  ⋯\n",
       " 19729 │ ENSG00000288559  3.58386    2.95445    2.57528    3.77383    3.73967\n",
       " 19730 │ ENSG00000288564  6.9216     6.50119    7.05128    6.86771    6.1121\n",
       " 19731 │ ENSG00000288585  2.66757    3.87074    3.26842    2.89836    2.37443\n",
       " 19732 │ ENSG00000288586  0.470343   0.651865   0.840675  -0.0973676  0.582672 ⋯\n",
       " 19733 │ ENSG00000288591  1.72311    2.2613     1.68797    2.20522    0.582672\n",
       " 19734 │ ENSG00000288596  4.2431     3.82992    4.19641    4.37997    4.83117\n",
       " 19735 │ ENSG00000288598  0.875808  -0.0412821  0.43521   -0.0973676  0.582672\n",
       " 19736 │ ENSG00000288602  5.86397    6.12833    5.80585    6.23057    5.7784   ⋯\n",
       "\u001b[36m                                               54 columns and 19715 rows omitted, \u001b[1m19736×365 DataFrame\n",
       "\u001b[1m   Row │\u001b[1m geneID          \u001b[1m R58118     \u001b[1m R39139   \u001b[1m R40169    \u001b[1m R33429   \u001b[1m R87938    ⋯\n",
       "       │\u001b[90m SubStrin…       \u001b[90m Float64    \u001b[90m Float64  \u001b[90m Float64   \u001b[90m Float64  \u001b[90m Float64   ⋯\n",
       "───────┼────────────────────────────────────────────────────────────────────────\n",
       "     1 │ ENSG00000000003   6.90502    7.02427   7.23472    7.03294    7.01985  ⋯\n",
       "     2 │ ENSG00000000419   7.25708    7.2464    7.22209    7.25861    7.47341\n",
       "     3 │ ENSG00000000457   5.75827    6.15585   5.75734    5.76163    5.9896\n",
       "     4 │ ENSG00000000460   6.61483    5.35332   4.51483    6.36264    7.01591\n",
       "     5 │ ENSG00000000971   3.78538    6.46617   6.91273    6.44158    5.94915  ⋯\n",
       "     6 │ ENSG00000001036   8.5873     8.04838   8.16177    8.40336    8.50914\n",
       "     7 │ ENSG00000001084   6.2175     6.42652   6.24311    6.17827    6.23969\n",
       "     8 │ ENSG00000001167   7.45601    7.25125   6.97157    7.55089    7.48483\n",
       "     9 │ ENSG00000001460   6.67457    6.14373   6.27022    6.02945    6.93626  ⋯\n",
       "    10 │ ENSG00000001461   8.50899    7.87128   7.77064    7.87105    8.88656\n",
       "    11 │ ENSG00000001497   7.37596    7.13518   6.99077    7.30767    7.24801\n",
       "   ⋮   │        ⋮             ⋮          ⋮          ⋮         ⋮          ⋮     ⋱\n",
       " 19727 │ ENSG00000288542   4.59867    3.59331   4.47847    3.70074    2.96255\n",
       " 19728 │ ENSG00000288550   6.32379    6.37368   7.84746    6.20986    5.57529  ⋯\n",
       " 19729 │ ENSG00000288559   2.97975    3.01795   3.12854    3.00759    3.53507\n",
       " 19730 │ ENSG00000288564   6.76502    7.0512    7.30585    6.81295    6.68934\n",
       " 19731 │ ENSG00000288585   2.64328    3.26307   3.30289    2.81344    2.64409\n",
       " 19732 │ ENSG00000288586   1.32152    1.22619   1.47031    0.867526  -0.128495 ⋯\n",
       " 19733 │ ENSG00000288591   1.32152    2.3248    2.56892    1.78382    2.17409\n",
       " 19734 │ ENSG00000288596   3.92421    4.47138   4.37448    4.37907    3.8418\n",
       " 19735 │ ENSG00000288598  -0.0647711  0.127575  0.0840159  0.174379   0.564652\n",
       " 19736 │ ENSG00000288602   5.75234    5.76948   5.15919    5.79115    5.65533  ⋯\n",
       "\u001b[36m                                              359 columns and 19715 rows omitted, \u001b[1m70×6 DataFrame\n",
       "\u001b[1m Row │\u001b[1m Patient ID \u001b[1m Genetic diagnosis \u001b[1m gene_id         \u001b[1m patient column index in ⋯\n",
       "     │\u001b[90m String7    \u001b[90m String15?         \u001b[90m String          \u001b[90m Int64                   ⋯\n",
       "─────┼──────────────────────────────────────────────────────────────────────────\n",
       "   1 │ R62943      C19orf70           ENSG00000174917                          ⋯\n",
       "   2 │ R98254      MRPL38             ENSG00000204316\n",
       "   3 │ R86287      DARS2              ENSG00000117593\n",
       "   4 │ R89912      NFU1               ENSG00000169599\n",
       "   5 │ R19100      SLC25A4            ENSG00000151729                          ⋯\n",
       "   6 │ R15264      TIMMDC1            ENSG00000113845\n",
       "   7 │ R36605      TWNK               ENSG00000107815\n",
       "   8 │ R61100      NAXE               ENSG00000163382\n",
       "   9 │ R77611      DLD                ENSG00000091140                          ⋯\n",
       "  10 │ R16472      MRPS25             ENSG00000131368\n",
       "  11 │ R51757      NDUFA10            ENSG00000130414\n",
       "  ⋮  │     ⋮               ⋮                 ⋮                         ⋮       ⋱\n",
       "  61 │ R29620      NBAS               ENSG00000151779\n",
       "  62 │ R64055      TALDO1             ENSG00000177156                          ⋯\n",
       "  63 │ R15748      TANGO2             ENSG00000183597\n",
       "  64 │ R66814      VPS33B             ENSG00000184056\n",
       "  65 │ R77365      SELENON            ENSG00000162430\n",
       "  66 │ R21993      SON                ENSG00000159140                          ⋯\n",
       "  67 │ R42505      UQCRFS1            ENSG00000169021\n",
       "  68 │ R64948      MEPCE              ENSG00000146834\n",
       "  69 │ R21470      SFXN4              ENSG00000183605\n",
       "  70 │ R47816      PGM2L1             ENSG00000165434                          ⋯\n",
       "\u001b[36m                                                   3 columns and 49 rows omitted)"
      ]
     },
     "execution_count": 12,
     "metadata": {},
     "output_type": "execute_result"
    }
   ],
   "source": [
    "transform_int, transform_obs, ground_truth = QC_gene_expression_data(\n",
    "    low_count = 10,\n",
    "    threshold = 0.1, \n",
    "    max_cor = 0.999, \n",
    ")"
   ]
  },
  {
   "cell_type": "markdown",
   "id": "85f16af7",
   "metadata": {},
   "source": [
    "check data dimensions"
   ]
  },
  {
   "cell_type": "code",
   "execution_count": 13,
   "id": "a472b875",
   "metadata": {},
   "outputs": [
    {
     "data": {
      "text/plain": [
       "(70, 6)"
      ]
     },
     "execution_count": 13,
     "metadata": {},
     "output_type": "execute_result"
    }
   ],
   "source": [
    "size(transform_int) # (19736, 60)\n",
    "size(transform_obs) # (19736, 365)\n",
    "size(ground_truth) # (70, 6)"
   ]
  },
  {
   "cell_type": "markdown",
   "id": "15fb508c",
   "metadata": {},
   "source": [
    "convert to numeric matrices with rows as samples and columns as genes"
   ]
  },
  {
   "cell_type": "code",
   "execution_count": 21,
   "id": "9b96419b",
   "metadata": {},
   "outputs": [
    {
     "data": {
      "text/plain": [
       "59×19736 transpose(::Matrix{Float64}) with eltype Float64:\n",
       " 7.16243  7.52393  6.15732  5.75861  6.71062  …  4.2431    0.875808   5.86397\n",
       " 7.28255  7.48436  5.72704  6.77764  6.82252     3.82992  -0.0412821  6.12833\n",
       " 7.32937  7.57685  5.63371  5.66632  7.63302     4.19641   0.43521    5.80585\n",
       " 7.31479  7.64937  5.95707  5.71676  7.53938     4.37997  -0.0973676  6.23057\n",
       " 7.95855  7.62452  6.30952  5.60984  7.64743     4.83117   0.582672   5.7784\n",
       " 6.8259   7.12483  5.88441  5.75847  6.6716   …  4.58047   0.511446   5.41672\n",
       " 7.39362  6.96415  5.92161  5.20977  7.54939     4.37497   1.7503     5.50684\n",
       " 6.96874  7.23932  5.89634  6.6735   6.15781     4.18727   0.0441326  5.95493\n",
       " 6.6786   7.15623  5.7589   6.28329  5.65468     4.20586   0.0787295  5.74169\n",
       " 7.24618  7.48998  5.87212  6.37998  7.67891     4.17893  -0.286979   6.37743\n",
       " 7.24228  7.43298  6.17179  6.44091  7.89227  …  4.40687   0.42719    5.87823\n",
       " 6.9665   7.20722  6.33893  4.99845  8.11296     4.53143   0.10061    5.41873\n",
       " 7.4249   7.18437  6.08199  4.76494  8.63408     4.5966    0.502259   5.68964\n",
       " ⋮                                            ⋱                       ⋮\n",
       " 6.99102  7.11309  5.87142  6.40205  6.36529     3.61329   2.26955    5.84843\n",
       " 6.75052  7.29454  5.94277  6.69373  5.13895     3.6867    1.98195    5.82409\n",
       " 7.38497  7.16124  6.02616  5.3915   8.1541      4.04966   2.61892    5.43051\n",
       " 7.11952  7.3151   5.9832   5.19897  5.46054  …  3.92009   3.14998    5.70876\n",
       " 6.67982  7.22778  5.8959   5.71545  5.08731     4.1849    2.32169    5.64592\n",
       " 7.34339  7.49824  5.98927  6.48813  7.07953     4.24438   1.67943    6.11365\n",
       " 7.30275  7.48441  6.21118  6.21773  7.39266     4.2413   -0.422142   6.15988\n",
       " 7.02371  7.05536  5.93377  6.0678   7.51369     4.03266   0.813784   5.81996\n",
       " 6.93373  7.23275  6.08526  5.59427  5.75097  …  4.44531   0.182627   5.61635\n",
       " 6.79188  7.14925  5.82405  5.81489  6.04171     4.63317   2.22522    5.95225\n",
       " 6.95466  7.20679  5.87337  5.97335  6.24241     3.73651   2.43723    5.90088\n",
       " 6.74664  7.11473  6.15577  6.80525  5.80032     4.06775   2.20453    5.59455"
      ]
     },
     "execution_count": 21,
     "metadata": {},
     "output_type": "execute_result"
    }
   ],
   "source": [
    "Xobs = transform_obs[:, 2:end] |> Matrix |> transpose\n",
    "Xint = transform_int[:, 2:end] |> Matrix |> transpose"
   ]
  },
  {
   "cell_type": "markdown",
   "id": "f2316374",
   "metadata": {},
   "source": [
    "These are the gene IDs"
   ]
  },
  {
   "cell_type": "code",
   "execution_count": 15,
   "id": "ad19ff8c",
   "metadata": {},
   "outputs": [
    {
     "data": {
      "text/plain": [
       "19736-element Vector{SubString{String31}}:\n",
       " \"ENSG00000000003\"\n",
       " \"ENSG00000000419\"\n",
       " \"ENSG00000000457\"\n",
       " \"ENSG00000000460\"\n",
       " \"ENSG00000000971\"\n",
       " \"ENSG00000001036\"\n",
       " \"ENSG00000001084\"\n",
       " \"ENSG00000001167\"\n",
       " \"ENSG00000001460\"\n",
       " \"ENSG00000001461\"\n",
       " \"ENSG00000001497\"\n",
       " \"ENSG00000001561\"\n",
       " \"ENSG00000001617\"\n",
       " ⋮\n",
       " \"ENSG00000288538\"\n",
       " \"ENSG00000288541\"\n",
       " \"ENSG00000288542\"\n",
       " \"ENSG00000288550\"\n",
       " \"ENSG00000288559\"\n",
       " \"ENSG00000288564\"\n",
       " \"ENSG00000288585\"\n",
       " \"ENSG00000288586\"\n",
       " \"ENSG00000288591\"\n",
       " \"ENSG00000288596\"\n",
       " \"ENSG00000288598\"\n",
       " \"ENSG00000288602\""
      ]
     },
     "execution_count": 15,
     "metadata": {},
     "output_type": "execute_result"
    }
   ],
   "source": [
    "gene_ids = transform_obs[:, 1]"
   ]
  },
  {
   "cell_type": "markdown",
   "id": "17eb4b20",
   "metadata": {},
   "source": [
    "Finally, run our package to perform root cause discovery for high-dimensional data. Note that we use the following parameters for a fast demonstration. See comments for values we used for the real data application in our paper (runtime often exceeds ~24h). "
   ]
  },
  {
   "cell_type": "code",
   "execution_count": 23,
   "id": "21afb697",
   "metadata": {},
   "outputs": [
    {
     "name": "stdout",
     "output_type": "stream",
     "text": [
      "Trying 4 y_idx\n",
      "Lasso found 80 non-zero entries\n",
      "Lasso found 109 non-zero entries\n",
      "Lasso found 67 non-zero entries\n",
      "Lasso found 74 non-zero entries\n",
      " 56.379518 seconds (695.65 k allocations: 5.256 GiB, 2.05% gc time, 4.65% compilation time)\n"
     ]
    },
    {
     "data": {
      "text/plain": [
       "19736-element Vector{Float64}:\n",
       " 0.009712399177859711\n",
       " 0.11895399507042398\n",
       " 0.11505446567348963\n",
       " 0.003145725965842752\n",
       " 7.98086308277622e-5\n",
       " 0.18364854524560556\n",
       " 0.21397352374249412\n",
       " 0.0027313249759257038\n",
       " 0.026723261531083193\n",
       " 0.025074526316290497\n",
       " 0.002061273880593377\n",
       " 0.0929657516840995\n",
       " 0.2216556882620838\n",
       " ⋮\n",
       " 0.021247528745765878\n",
       " 0.23810686611367735\n",
       " 0.06144366690152794\n",
       " 0.014035910087709304\n",
       " 0.08598333652970208\n",
       " 0.05805265394896295\n",
       " 0.0044697226556585775\n",
       " 0.09449393832360445\n",
       " 0.08043065388404888\n",
       " 0.005298879649329278\n",
       " 0.008924187060126074\n",
       " 0.003353693830550429"
      ]
     },
     "execution_count": 23,
     "metadata": {},
     "output_type": "execute_result"
    }
   ],
   "source": [
    "# parameters for current run\n",
    "patient_id = \"R62943\"\n",
    "method = \"cv\"\n",
    "nshuffles = 1 # change this to 30 to reproduce our real data results\n",
    "y_idx_z_threshold = 10.0 # change this to 1.5 to reproduce our real data results\n",
    "\n",
    "# Use this patient as interventional sample.\n",
    "# All other patients are treated as observational samples. \n",
    "i = findfirst(x -> x == patient_id, names(transform_int)[2:end])\n",
    "Xint_sample = Xint[i, :]\n",
    "\n",
    "# concat Xobs\n",
    "nint = size(Xint, 1)\n",
    "Xobs_full = vcat(Xobs, Xint[setdiff(1:nint, i), :])\n",
    "\n",
    "# run main alg\n",
    "Random.seed!(2024)\n",
    "@time root_cause_score = root_cause_discovery_high_dimensional(\n",
    "    Xobs_full, Xint_sample, method, y_idx_z_threshold=y_idx_z_threshold,\n",
    "    nshuffles=nshuffles\n",
    ");\n",
    "\n",
    "# check result\n",
    "root_cause_score"
   ]
  },
  {
   "cell_type": "markdown",
   "id": "afca9c47",
   "metadata": {},
   "source": [
    "The vector `root_cause_score` is the RC-score for each variable in our paper. "
   ]
  }
 ],
 "metadata": {
  "kernelspec": {
   "display_name": "Julia 1.10.0",
   "language": "julia",
   "name": "julia-1.10"
  },
  "language_info": {
   "file_extension": ".jl",
   "mimetype": "application/julia",
   "name": "julia",
   "version": "1.10.0"
  }
 },
 "nbformat": 4,
 "nbformat_minor": 5
}
