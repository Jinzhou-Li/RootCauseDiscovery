{
 "cells": [
  {
   "cell_type": "markdown",
   "metadata": {},
   "source": [
    "# Root Cause Discovery\n",
    "\n",
    "After processing, we obtained 2 datasets\n",
    "1. \"Interventional data\": there are 59 AE samples (samples with aberrant gene expression) for which we have \"ground truth\" data about which gene is the true root cause. Each row is a gene and each column is a sample. \n",
    "2. \"observational data\": these are a few hundred samples for which we did not do any intervention. Each row is a gene and each column is a sample.\n",
    "\n",
    "Below, each patient is analyzed in a separate cluster job. The code below contains the actual runtime script as well as helper functions that interface with a slurm cluster manager to automatically submit jobs. "
   ]
  },
  {
   "cell_type": "code",
   "execution_count": 1,
   "metadata": {
    "collapsed": false,
    "scrolled": true
   },
   "outputs": [
    {
     "name": "stderr",
     "output_type": "stream",
     "text": [
      "\u001b[32m\u001b[1mPrecompiling\u001b[22m\u001b[39m RootCauseDiscovery\n",
      "\u001b[32m  ✓ \u001b[39m\u001b[90mPtrArrays\u001b[39m\n",
      "\u001b[32m  ✓ \u001b[39m\u001b[90mInverseFunctions\u001b[39m\n",
      "\u001b[32m  ✓ \u001b[39m\u001b[90mRmath_jll\u001b[39m\n",
      "\u001b[32m  ✓ \u001b[39m\u001b[90mQuadGK\u001b[39m\n",
      "\u001b[32m  ✓ \u001b[39m\u001b[90mAliasTables\u001b[39m\n",
      "\u001b[32m  ✓ \u001b[39m\u001b[90mOpenSpecFun_jll\u001b[39m\n",
      "\u001b[32m  ✓ \u001b[39m\u001b[90mglmnet_jll\u001b[39m\n",
      "\u001b[32m  ✓ \u001b[39m\u001b[90mFillArrays\u001b[39m\n",
      "\u001b[32m  ✓ \u001b[39m\u001b[90mLogExpFunctions → LogExpFunctionsInverseFunctionsExt\u001b[39m\n",
      "\u001b[32m  ✓ \u001b[39m\u001b[90mRmath\u001b[39m\n",
      "\u001b[32m  ✓ \u001b[39m\u001b[90mFillArrays → FillArraysPDMatsExt\u001b[39m\n",
      "\u001b[32m  ✓ \u001b[39m\u001b[90mFillArrays → FillArraysStatisticsExt\u001b[39m\n",
      "\u001b[32m  ✓ \u001b[39m\u001b[90mSpecialFunctions\u001b[39m\n",
      "\u001b[32m  ✓ \u001b[39m\u001b[90mSpecialFunctions → SpecialFunctionsChainRulesCoreExt\u001b[39m\n",
      "InverseFunctionsTestExt\u001b[33m Waiting for background task / IO / timer.\u001b[39m\n",
      "[pid 30827] waiting for IO to finish:\n",
      " Handle type        uv_handle_t->data\n",
      " fs_event           0x2916bf0->0x7ff6cbfeff10\n",
      " timer              0x2910970->0x7ff6cbfeff40\n",
      "This means that a package has started a background task or event source that has not finished running. For precompilation to complete successfully, the event source needs to be closed explicitly. See the developer documentation on fixing precompilation hangs for more help.\n",
      "\u001b[32m  ✓ \u001b[39m\u001b[90mInverseFunctions → InverseFunctionsTestExt\u001b[39m\n",
      "\u001b[32m  ✓ \u001b[39m\u001b[90mStatsFuns\u001b[39m\n",
      "\u001b[32m  ✓ \u001b[39mDistributions\n",
      "\u001b[32m  ✓ \u001b[39m\u001b[90mDistributions → DistributionsTestExt\u001b[39m\n",
      "\u001b[32m  ✓ \u001b[39mGLMNet\n",
      "\u001b[32m  ✓ \u001b[39mRootCauseDiscovery\n",
      "  20 dependencies successfully precompiled in 63 seconds. 66 already precompiled.\n",
      "  \u001b[33m1\u001b[39m dependency had output during precompilation:\u001b[33m\n",
      "┌ \u001b[39mInverseFunctions → InverseFunctionsTestExt\u001b[33m\n",
      "│  \u001b[39m[pid 30827] waiting for IO to finish:\u001b[33m\n",
      "│  \u001b[39m Handle type        uv_handle_t->data\u001b[33m\n",
      "│  \u001b[39m fs_event           0x2916bf0->0x7ff6cbfeff10\u001b[33m\n",
      "│  \u001b[39m timer              0x2910970->0x7ff6cbfeff40\u001b[33m\n",
      "│  \u001b[39mThis means that a package has started a background task or event source that has not finished running. For precompilation to complete successfully, the event source needs to be closed explicitly. See the developer documentation on fixing precompilation hangs for more help.\u001b[33m\n",
      "└  \u001b[39m\n",
      "\u001b[32m\u001b[1mPrecompiling\u001b[22m\u001b[39m JLD2\n",
      "\u001b[32m  ✓ \u001b[39mJLD2\n",
      "  1 dependency successfully precompiled in 46 seconds. 8 already precompiled.\n"
     ]
    },
    {
     "data": {
      "text/plain": [
       "aggregate_result (generic function with 1 method)"
      ]
     },
     "execution_count": 1,
     "metadata": {},
     "output_type": "execute_result"
    }
   ],
   "source": [
    "using RootCauseDiscovery\n",
    "using DataFrames\n",
    "using CSV\n",
    "using DelimitedFiles\n",
    "using JLD2\n",
    "using Random\n",
    "using ProgressMeter\n",
    "using LinearAlgebra\n",
    "\n",
    "# helper function to submit 1 job to run 1 command\n",
    "function submit(command::String, ncores::Int, total_mem::Number, joblog_dir::String; \n",
    "        jobname=\"submit\", waitfor=Int[], verbose=true)\n",
    "    mem = round(Int, total_mem / ncores) # memory per core\n",
    "    filename = \"$jobname.sh\"\n",
    "    open(filename, \"w\") do io\n",
    "        println(io, \"#!/bin/bash\")\n",
    "        println(io, \"#\")\n",
    "        println(io, \"#SBATCH --job-name=$jobname\")\n",
    "        println(io, \"#\")\n",
    "        println(io, \"#SBATCH --time=168:00:00\")\n",
    "        println(io, \"#SBATCH --cpus-per-task=$ncores\")\n",
    "        println(io, \"#SBATCH --mem-per-cpu=$(mem)G\")\n",
    "        println(io, \"#SBATCH --partition=candes,zihuai,qsu\")\n",
    "        println(io, \"#SBATCH --output=$(joinpath(joblog_dir, \"slurm-%j.out\"))\")\n",
    "        println(io, \"\")\n",
    "        println(io, \"#save job info on joblog:\")\n",
    "        println(io, \"echo \\\"Job \\$JOB_ID started on:   \\\" `hostname -s`\")\n",
    "        println(io, \"echo \\\"Job \\$JOB_ID started on:   \\\" `date `\")\n",
    "        println(io, \"\")\n",
    "        println(io, \"# load the job environment:\")\n",
    "        println(io, \"module load julia/1.10\")\n",
    "        println(io, \"export JULIA_DEPOT_PATH=\\\"/home/groups/sabatti/.julia\\\"\")\n",
    "        println(io, \"\")\n",
    "        println(io, \"# run code\")\n",
    "        println(io, \"echo \\\"$command\\\"\")\n",
    "        println(io, \"$command\")\n",
    "        println(io, \"\")\n",
    "        println(io, \"#echo job info on joblog:\")\n",
    "        println(io, \"echo \\\"Job \\$JOB_ID ended on:   \\\" `hostname -s`\")\n",
    "        println(io, \"echo \\\"Job \\$JOB_ID ended on:   \\\" `date `\")\n",
    "        println(io, \"#echo \\\" \\\"\")\n",
    "    end\n",
    "    # submit job and capture job ID\n",
    "    io = IOBuffer()\n",
    "    if length(waitfor) != 0\n",
    "        run(pipeline(`sbatch --dependency=afterok:$(join(waitfor, ':')) $filename`; stdout=io))\n",
    "    else\n",
    "        run(pipeline(`sbatch $filename`; stdout=io))\n",
    "    end\n",
    "    msg = String(take!(io))\n",
    "    verbose && println(stdout, msg)\n",
    "    jobid = parse(Int, strip(msg)[21:end])\n",
    "    # clean up and return job ID\n",
    "    close(io)\n",
    "    rm(filename, force=true)\n",
    "    return jobid\n",
    "end\n",
    "\n",
    "# helper function to submit 1 job to run multiple commands\n",
    "function submit(commands::Vector{String}, ncores::Int, \n",
    "        total_mem::Number, joblog_dir::String; \n",
    "        jobname=\"submit\", waitfor=Int[], verbose=true)\n",
    "    mem = round(Int, total_mem / ncores) # memory per core\n",
    "    filename = \"$jobname.sh\"\n",
    "    open(filename, \"w\") do io\n",
    "        println(io, \"#!/bin/bash\")\n",
    "        println(io, \"#\")\n",
    "        println(io, \"#SBATCH --job-name=$jobname\")\n",
    "        println(io, \"#\")\n",
    "        println(io, \"#SBATCH --time=168:00:00\")\n",
    "        println(io, \"#SBATCH --cpus-per-task=$ncores\")\n",
    "        println(io, \"#SBATCH --mem-per-cpu=$(mem)G\")\n",
    "        println(io, \"#SBATCH --partition=candes,zihuai,qsu\")\n",
    "        println(io, \"#SBATCH --output=$(joinpath(joblog_dir, \"slurm-%j.out\"))\")\n",
    "        println(io, \"\")\n",
    "        println(io, \"#save job info on joblog:\")\n",
    "        println(io, \"echo \\\"Job \\$JOB_ID started on:   \\\" `hostname -s`\")\n",
    "        println(io, \"echo \\\"Job \\$JOB_ID started on:   \\\" `date `\")\n",
    "        println(io, \"\")\n",
    "        println(io, \"# load the job environment:\")\n",
    "        println(io, \"module load julia/1.10\")\n",
    "        println(io, \"export JULIA_DEPOT_PATH=\\\"/home/groups/sabatti/.julia\\\"\")\n",
    "        println(io, \"\")\n",
    "        for command in commands\n",
    "            println(io, \"echo \\\"$command\\\"\")\n",
    "            println(io, \"$command\")\n",
    "        end\n",
    "        println(io, \"\")\n",
    "        println(io, \"#echo job info on joblog:\")\n",
    "        println(io, \"echo \\\"Job \\$JOB_ID ended on:   \\\" `hostname -s`\")\n",
    "        println(io, \"echo \\\"Job \\$JOB_ID ended on:   \\\" `date `\")\n",
    "        println(io, \"#echo \\\" \\\"\")\n",
    "    end\n",
    "    # submit job and capture job ID\n",
    "    io = IOBuffer()\n",
    "    if length(waitfor) != 0\n",
    "        run(pipeline(`sbatch --dependency=afterok:$(join(waitfor, ':')) $filename`; stdout=io))\n",
    "    else\n",
    "        run(pipeline(`sbatch $filename`; stdout=io))\n",
    "    end\n",
    "    msg = String(take!(io))\n",
    "    verbose && println(stdout, msg)\n",
    "    jobid = parse(Int, strip(msg)[21:end])\n",
    "    # clean up and return job ID\n",
    "    close(io)\n",
    "    rm(filename, force=true)\n",
    "    return jobid\n",
    "end\n",
    "\n",
    "# helper function to read data\n",
    "function read_data(low_count, threshold, max_cor, concatenate, dir)\n",
    "    isdir(dir) || mkpath(dir)\n",
    "    trainsform_int_file = joinpath(dir, \"transform_int_$concatenate\")\n",
    "    transform_obs_file = joinpath(dir, \"transform_obs_$concatenate\")\n",
    "    ground_truth_file = joinpath(dir, \"ground_truth_$concatenate\")\n",
    "\n",
    "    if !(isfile(trainsform_int_file) && isfile(transform_obs_file) && isfile(ground_truth_file))\n",
    "        # process raw data & save\n",
    "        transform_int, transform_obs, ground_truth = QC_gene_expression_data(;\n",
    "            low_count = low_count, \n",
    "            threshold = threshold, \n",
    "            max_cor = max_cor, \n",
    "            concatenate = concatenate\n",
    "        )\n",
    "        CSV.write(trainsform_int_file, transform_int)\n",
    "        CSV.write(transform_obs_file, transform_obs)\n",
    "        CSV.write(ground_truth_file, ground_truth)\n",
    "    else\n",
    "        transform_int = CSV.read(trainsform_int_file, DataFrame)\n",
    "        transform_obs = CSV.read(transform_obs_file, DataFrame)\n",
    "        ground_truth = CSV.read(ground_truth_file, DataFrame)\n",
    "    end\n",
    "\n",
    "    # numeric matrices\n",
    "    Xobs = transform_obs[:, 2:end] |> Matrix |> transpose\n",
    "    Xint = transform_int[:, 2:end] |> Matrix |> transpose\n",
    "    \n",
    "    # gene IDs\n",
    "    gene_ids = transform_obs[:, 1]\n",
    "    \n",
    "    return Xobs, Xint, ground_truth, gene_ids\n",
    "end\n",
    "\n",
    "# helper function to process output of each patient (after running root cause discovery alg)\n",
    "function aggregate_result(concatenate::String, dir;\n",
    "    low_count = 10,\n",
    "    threshold = 0.1,\n",
    "    max_cor = 0.999,\n",
    "    )\n",
    "    cv_outdir = joinpath(dir, \"$concatenate/cv\")\n",
    "    data_dir = joinpath(dir, \"data\")\n",
    "    \n",
    "    # import data\n",
    "    Xobs, Xint, ground_truth, gene_ids = \n",
    "        read_data(low_count, threshold, max_cor, concatenate, data_dir)\n",
    "    \n",
    "    # only consider patients that is AE\n",
    "    idx = findall(isone, ground_truth[!, \"is AE\"])\n",
    "    ground_truth_filtered = ground_truth[idx, :]\n",
    "    patient_name_filtered = ground_truth_filtered[!, \"Patient ID\"]\n",
    "\n",
    "    # things to return\n",
    "    df = DataFrame(\n",
    "        \"Patient Name\"=>String[],\n",
    "        \"Z-score rank\"=>Float64[],\n",
    "        \"Cholesky-score rank\"=>Float64[],\n",
    "        \"RC Z-score\"=>Float64[],\n",
    "        \"RC Cholesky-score\"=>Float64[],\n",
    "        \"gene ID from Cholesky\"=>String[],\n",
    "        \"gene name from ground truth\"=>String[],\n",
    "    )\n",
    "    z_all = Vector{Float64}[]\n",
    "\n",
    "    # compare our method against z score method\n",
    "    @showprogress for (i, id) in enumerate(patient_name_filtered)\n",
    "        try\n",
    "            # compute z-score for current sample\n",
    "            Xint_sample = Xint[i, :]\n",
    "            Xobs_full = vcat(Xobs, Xint[setdiff(1:size(Xint, 1), i), :])\n",
    "            z = RootCauseDiscovery.zscore(Xobs_full, Xint_sample)\n",
    "            push!(z_all, z)\n",
    "            \n",
    "            # compute rank of z-score\n",
    "            patient_root_cause_idx = ground_truth_filtered[i, \"root cause row index in genecounts\"]\n",
    "            patient_root_cause_zscore = z[patient_root_cause_idx]\n",
    "            root_cause_zscore_rank = count(x -> x > patient_root_cause_zscore, z)\n",
    "\n",
    "            # cv result\n",
    "            file = joinpath(cv_outdir, \"$id.csv\")\n",
    "            cholesky_score = readdlm(file)\n",
    "            root_cause_cholesky_score = cholesky_score[patient_root_cause_idx]\n",
    "            root_cause_chol_rank_cv = count(x -> x > root_cause_cholesky_score, cholesky_score)\n",
    "            max_chol_idx = findmax(cholesky_score)[2]\n",
    "            \n",
    "            push!(df, [id, root_cause_zscore_rank, \n",
    "                            root_cause_chol_rank_cv, \n",
    "                            round(patient_root_cause_zscore, digits=3), \n",
    "                            round(root_cause_cholesky_score, digits=3),\n",
    "                            gene_ids[max_chol_idx],\n",
    "                            ground_truth_filtered[i, \"Genetic diagnosis\"]\n",
    "                       ])\n",
    "        catch e\n",
    "            println(e)\n",
    "            continue\n",
    "        end\n",
    "    end\n",
    "\n",
    "    # @show length(cholesky_score)\n",
    "    df = df[!, [1, 3, 2, 4, 5, 6, 7]]\n",
    "    sort!(df, \"Cholesky-score rank\")\n",
    "    return df, z_all\n",
    "end"
   ]
  },
  {
   "cell_type": "markdown",
   "metadata": {},
   "source": [
    "## Read processed data"
   ]
  },
  {
   "cell_type": "code",
   "execution_count": 2,
   "metadata": {
    "collapsed": false
   },
   "outputs": [
    {
     "data": {
      "text/plain": [
       "([6.905019519912375 7.257078563799141 … -0.06477114998921524 5.752340009973989; 7.02426909562131 7.246401013060676 … 0.12757476399859816 5.769481834936712; … ; 6.839604518578518 7.29331359490887 … 2.7416948901919214 5.792997014900723; 6.634964406531482 7.155258338398599 … 1.9075765878191422 5.778777598727033], [7.16242663712475 7.523928621811798 … 0.8758080027262863 5.863970440970483; 7.282548459614407 7.484357868453626 … -0.04128210658791 6.128328625903546; … ; 6.954662707932615 7.206785478347909 … 2.43723143625253 5.900881832561235; 6.746641518634209 7.114730365387739 … 2.2045294686132544 5.5945535496772845], \u001b[1m70×6 DataFrame\n",
       "\u001b[1m Row │\u001b[1m Patient ID \u001b[1m Genetic diagnosis \u001b[1m gene_id         \u001b[1m patient column index in ⋯\n",
       "     │\u001b[90m String7    \u001b[90m String15          \u001b[90m String15        \u001b[90m Int64                   ⋯\n",
       "─────┼──────────────────────────────────────────────────────────────────────────\n",
       "   1 │ R62943      C19orf70           ENSG00000174917                          ⋯\n",
       "   2 │ R98254      MRPL38             ENSG00000204316\n",
       "   3 │ R86287      DARS2              ENSG00000117593\n",
       "   4 │ R89912      NFU1               ENSG00000169599\n",
       "   5 │ R19100      SLC25A4            ENSG00000151729                          ⋯\n",
       "   6 │ R15264      TIMMDC1            ENSG00000113845\n",
       "   7 │ R36605      TWNK               ENSG00000107815\n",
       "   8 │ R61100      NAXE               ENSG00000163382\n",
       "   9 │ R77611      DLD                ENSG00000091140                          ⋯\n",
       "  10 │ R16472      MRPS25             ENSG00000131368\n",
       "  11 │ R51757      NDUFA10            ENSG00000130414\n",
       "  ⋮  │     ⋮               ⋮                 ⋮                         ⋮       ⋱\n",
       "  61 │ R29620      NBAS               ENSG00000151779\n",
       "  62 │ R64055      TALDO1             ENSG00000177156                          ⋯\n",
       "  63 │ R15748      TANGO2             ENSG00000183597\n",
       "  64 │ R66814      VPS33B             ENSG00000184056\n",
       "  65 │ R77365      SELENON            ENSG00000162430\n",
       "  66 │ R21993      SON                ENSG00000159140                          ⋯\n",
       "  67 │ R42505      UQCRFS1            ENSG00000169021\n",
       "  68 │ R64948      MEPCE              ENSG00000146834\n",
       "  69 │ R21470      SFXN4              ENSG00000183605\n",
       "  70 │ R47816      PGM2L1             ENSG00000165434                          ⋯\n",
       "\u001b[36m                                                   3 columns and 49 rows omitted, String15[\"ENSG00000000003\", \"ENSG00000000419\", \"ENSG00000000457\", \"ENSG00000000460\", \"ENSG00000000971\", \"ENSG00000001036\", \"ENSG00000001084\", \"ENSG00000001167\", \"ENSG00000001460\", \"ENSG00000001461\"  …  \"ENSG00000288542\", \"ENSG00000288550\", \"ENSG00000288559\", \"ENSG00000288564\", \"ENSG00000288585\", \"ENSG00000288586\", \"ENSG00000288591\", \"ENSG00000288596\", \"ENSG00000288598\", \"ENSG00000288602\"])"
      ]
     },
     "execution_count": 2,
     "metadata": {},
     "output_type": "execute_result"
    }
   ],
   "source": [
    "low_count = 10\n",
    "threshold = 0.1\n",
    "max_cor = 0.999\n",
    "concatenate = \"all\"\n",
    "dir = \"/scratch/users/bbchu/RootCauseDiscovery/8.30.2024/data\"\n",
    "Xobs, Xint, ground_truth, gene_ids = \n",
    "    read_data(low_count, threshold, max_cor, concatenate, dir)"
   ]
  },
  {
   "cell_type": "markdown",
   "metadata": {},
   "source": [
    "## Submit main jobs (1 job for each patient)\n",
    "\n",
    "Below first shows the actual runtime script"
   ]
  },
  {
   "cell_type": "code",
   "execution_count": null,
   "metadata": {
    "collapsed": true
   },
   "outputs": [],
   "source": [
    "# put this codeblock in script /scratch/users/bbchu/RootCauseDiscovery/run_realData_RCD.jl\n",
    "\n",
    "using RootCauseDiscovery\n",
    "using DataFrames\n",
    "using CSV\n",
    "using DelimitedFiles\n",
    "using JLD2\n",
    "using Random\n",
    "using LinearAlgebra\n",
    "BLAS.set_num_threads(1)\n",
    "\n",
    "# inputs to the script\n",
    "patient_id = ARGS[1]\n",
    "y_idx_z_threshold = parse(Float64, ARGS[2])\n",
    "outfile = ARGS[3]\n",
    "low_count = parse(Int, ARGS[4]) # min number of gene count exceeding `threshold` is needed to prevent gene from being filtered out\n",
    "threshold = parse(Float64, ARGS[5]) # for processing raw data\n",
    "seed = parse(Int, ARGS[6])\n",
    "nshuffles = parse(Int, ARGS[7])\n",
    "method = ARGS[8] # \"cv\" or \"nhalf\"\n",
    "max_cor = parse(Float64, ARGS[9])\n",
    "concatenate = ARGS[10] # \"all\", \"ns\", or \"ss\"\n",
    "\n",
    "# for testing\n",
    "# patient_id = \"R62943\"\n",
    "# y_idx_z_threshold = 1.5\n",
    "# outfile = \"fdsa\"\n",
    "# low_count = 10\n",
    "# threshold = 0.1\n",
    "# seed = 1111\n",
    "# nshuffles = 1\n",
    "# method = \"cv\"\n",
    "# max_cor = 0.999\n",
    "# concatenate = \"all\"\n",
    "\n",
    "# process raw data\n",
    "transform_int, transform_obs, _ = \n",
    "    QC_gene_expression_data(low_count = low_count, \n",
    "    threshold = threshold, max_cor = max_cor, \n",
    "    concatenate = concatenate);\n",
    "\n",
    "# numeric matrices\n",
    "Xobs = transform_obs[:, 2:end] |> Matrix |> transpose\n",
    "Xint = transform_int[:, 2:end] |> Matrix |> transpose\n",
    "i = findfirst(x -> x == patient_id, names(transform_int)[2:end])\n",
    "if !isnothing(i)\n",
    "    Xint_sample = Xint[i, :]\n",
    "\n",
    "    # concat Xobs\n",
    "    nint = size(Xint, 1)\n",
    "    Xobs_full = vcat(Xobs, Xint[setdiff(1:nint, i), :])\n",
    "\n",
    "    # run main alg\n",
    "    Random.seed!(seed)\n",
    "    @time root_cause_score = root_cause_discovery_high_dimensional(\n",
    "        Xobs_full, Xint_sample, method, y_idx_z_threshold=y_idx_z_threshold,\n",
    "        nshuffles=nshuffles\n",
    "    );\n",
    "\n",
    "    # save result\n",
    "    writedlm(outfile, root_cause_score)\n",
    "else\n",
    "    println(\"patient $patient_id not found in interventional samples!\")\n",
    "end\n",
    "\n",
    "println(\"Done!\")"
   ]
  },
  {
   "cell_type": "markdown",
   "metadata": {},
   "source": [
    "### Submit jobs for each patient\n",
    "\n",
    "A typical patient requires 10-48h to run with 24 cores"
   ]
  },
  {
   "cell_type": "code",
   "execution_count": 4,
   "metadata": {
    "collapsed": false,
    "scrolled": true
   },
   "outputs": [
    {
     "name": "stdout",
     "output_type": "stream",
     "text": [
      "Submitted batch job 53850521\n",
      "\n"
     ]
    }
   ],
   "source": [
    "julia_exe = \"/scratch/users/bbchu/RootCauseDiscovery/run_realData_RCD_ines.jl\"\n",
    "dirs = [\n",
    "    \"/scratch/users/bbchu/RootCauseDiscovery/8.30.2024\"\n",
    "]\n",
    "joblog_dirs = [joinpath(dirs[i], \"joblogs\") for i in eachindex(dirs)]\n",
    "mkpath.(joblog_dirs)\n",
    "seeds = [8302024]\n",
    "low_counts = [10]\n",
    "thresholds = [0.1]\n",
    "nshuffles = 30\n",
    "y_idx_z_threshold = 1.5\n",
    "method = \"cv\"\n",
    "max_cor = 0.999\n",
    "concatenates = [\"all\"]\n",
    "\n",
    "# patient IDs\n",
    "patient_name = [\"R62943\", \"R98254\", \"R89912\", \"R19100\", \"R15264\", \"R36605\", \"R61100\", \n",
    "    \"R77611\", \"R16472\", \"R51757\", \"R80346\", \"R20754\", \"R25473\", \"R28774\", \"R96820\", \n",
    "    \"R21147\", \"R64921\", \"R52016\", \"R46723\", \"R80184\", \"R59185\", \"R44456\", \"R24289\", \n",
    "    \"R91273\", \"R60537\", \"R72253\", \"R75000\", \"R91016\", \"R82353\", \"R34834\", \"R78764\", \n",
    "    \"R30367\", \"R76358\", \"R12128\", \"R45867\", \"R31640\", \"R95723\", \"R55237\", \"R18626\", \n",
    "    \"R34820\", \"R25912\", \"R11258\", \"R64046\", \"R54158\", \"R19907\", \"R27473\", \"R70186\", \n",
    "    \"R26710\", \"R30525\", \"R29620\", \"R64055\", \"R15748\", \"R66814\", \"R77365\", \"R21993\", \n",
    "    \"R42505\", \"R64948\", \"R21470\", \"R47816\"]\n",
    "\n",
    "# for testing\n",
    "# nshuffles = 2\n",
    "# y_idx_z_threshold = 20\n",
    "# patient_name = [\"R62943\", \"R98254\"]\n",
    "\n",
    "# submit jobs\n",
    "for concat in concatenates\n",
    "    for (dir, joblog_dir, seed, low_count, threshold) in zip(dirs, joblog_dirs, seeds, low_counts, thresholds)\n",
    "        for patient in patient_name\n",
    "            outdir = joinpath(dir, concat, method)\n",
    "            isdir(outdir) || mkpath(outdir)\n",
    "\n",
    "            outfile = joinpath(outdir, \"$(patient).csv\")\n",
    "            if !isfile(outfile)\n",
    "                cmd = \"julia -t 24 $julia_exe $patient $y_idx_z_threshold $outfile $low_count $threshold $seed $nshuffles $method $max_cor $concat\"\n",
    "                submit(cmd, 24, 64, joblog_dir, jobname=patient)\n",
    "            end\n",
    "        end\n",
    "    end\n",
    "end"
   ]
  },
  {
   "cell_type": "markdown",
   "metadata": {},
   "source": [
    "# Plot result"
   ]
  },
  {
   "cell_type": "markdown",
   "metadata": {},
   "source": [
    "### 8.30.2024"
   ]
  },
  {
   "cell_type": "code",
   "execution_count": 3,
   "metadata": {
    "collapsed": false
   },
   "outputs": [
    {
     "name": "stderr",
     "output_type": "stream",
     "text": [
      "\u001b[32mProgress: 100%|█████████████████████████████████████████| Time: 0:00:12\u001b[39m\n"
     ]
    }
   ],
   "source": [
    "dir = \"/scratch/users/bbchu/RootCauseDiscovery/8.30.2024\"\n",
    "df_all, z_all = aggregate_result(\"all\", dir);"
   ]
  },
  {
   "cell_type": "code",
   "execution_count": 4,
   "metadata": {
    "collapsed": false
   },
   "outputs": [
    {
     "data": {
      "text/html": [
       "<div><div style = \"float: left;\"><span>59×7 DataFrame</span></div><div style = \"float: right;\"><span style = \"font-style: italic;\">34 rows omitted</span></div><div style = \"clear: both;\"></div></div><div class = \"data-frame\" style = \"overflow-x: scroll;\"><table class = \"data-frame\" style = \"margin-bottom: 6px;\"><thead><tr class = \"header\"><th class = \"rowNumber\" style = \"font-weight: bold; text-align: right;\">Row</th><th style = \"text-align: left;\">Patient Name</th><th style = \"text-align: left;\">Cholesky-score rank</th><th style = \"text-align: left;\">Z-score rank</th><th style = \"text-align: left;\">RC Z-score</th><th style = \"text-align: left;\">RC Cholesky-score</th><th style = \"text-align: left;\">gene ID from Cholesky</th><th style = \"text-align: left;\">gene name from ground truth</th></tr><tr class = \"subheader headerLastRow\"><th class = \"rowNumber\" style = \"font-weight: bold; text-align: right;\"></th><th title = \"String\" style = \"text-align: left;\">String</th><th title = \"Float64\" style = \"text-align: left;\">Float64</th><th title = \"Float64\" style = \"text-align: left;\">Float64</th><th title = \"Float64\" style = \"text-align: left;\">Float64</th><th title = \"Float64\" style = \"text-align: left;\">Float64</th><th title = \"String\" style = \"text-align: left;\">String</th><th title = \"String\" style = \"text-align: left;\">String</th></tr></thead><tbody><tr><td class = \"rowNumber\" style = \"font-weight: bold; text-align: right;\">1</td><td style = \"text-align: left;\">R19100</td><td style = \"text-align: right;\">0.0</td><td style = \"text-align: right;\">0.0</td><td style = \"text-align: right;\">24.275</td><td style = \"text-align: right;\">8.501</td><td style = \"text-align: left;\">ENSG00000151729</td><td style = \"text-align: left;\">SLC25A4</td></tr><tr><td class = \"rowNumber\" style = \"font-weight: bold; text-align: right;\">2</td><td style = \"text-align: left;\">R61100</td><td style = \"text-align: right;\">0.0</td><td style = \"text-align: right;\">1.0</td><td style = \"text-align: right;\">33.222</td><td style = \"text-align: right;\">21.201</td><td style = \"text-align: left;\">ENSG00000163382</td><td style = \"text-align: left;\">NAXE</td></tr><tr><td class = \"rowNumber\" style = \"font-weight: bold; text-align: right;\">3</td><td style = \"text-align: left;\">R77611</td><td style = \"text-align: right;\">0.0</td><td style = \"text-align: right;\">9.0</td><td style = \"text-align: right;\">8.15</td><td style = \"text-align: right;\">12.217</td><td style = \"text-align: left;\">ENSG00000091140</td><td style = \"text-align: left;\">DLD</td></tr><tr><td class = \"rowNumber\" style = \"font-weight: bold; text-align: right;\">4</td><td style = \"text-align: left;\">R16472</td><td style = \"text-align: right;\">0.0</td><td style = \"text-align: right;\">0.0</td><td style = \"text-align: right;\">39.138</td><td style = \"text-align: right;\">11.533</td><td style = \"text-align: left;\">ENSG00000131368</td><td style = \"text-align: left;\">MRPS25</td></tr><tr><td class = \"rowNumber\" style = \"font-weight: bold; text-align: right;\">5</td><td style = \"text-align: left;\">R28774</td><td style = \"text-align: right;\">0.0</td><td style = \"text-align: right;\">0.0</td><td style = \"text-align: right;\">133.791</td><td style = \"text-align: right;\">10.542</td><td style = \"text-align: left;\">ENSG00000113845</td><td style = \"text-align: left;\">TIMMDC1</td></tr><tr><td class = \"rowNumber\" style = \"font-weight: bold; text-align: right;\">6</td><td style = \"text-align: left;\">R64921</td><td style = \"text-align: right;\">0.0</td><td style = \"text-align: right;\">2.0</td><td style = \"text-align: right;\">17.351</td><td style = \"text-align: right;\">15.255</td><td style = \"text-align: left;\">ENSG00000090674</td><td style = \"text-align: left;\">MCOLN1</td></tr><tr><td class = \"rowNumber\" style = \"font-weight: bold; text-align: right;\">7</td><td style = \"text-align: left;\">R80184</td><td style = \"text-align: right;\">0.0</td><td style = \"text-align: right;\">10.0</td><td style = \"text-align: right;\">11.534</td><td style = \"text-align: right;\">8.062</td><td style = \"text-align: left;\">ENSG00000059573</td><td style = \"text-align: left;\">ALDH18A1</td></tr><tr><td class = \"rowNumber\" style = \"font-weight: bold; text-align: right;\">8</td><td style = \"text-align: left;\">R59185</td><td style = \"text-align: right;\">0.0</td><td style = \"text-align: right;\">3056.0</td><td style = \"text-align: right;\">4.16</td><td style = \"text-align: right;\">8.944</td><td style = \"text-align: left;\">ENSG00000164258</td><td style = \"text-align: left;\">NDUFS4</td></tr><tr><td class = \"rowNumber\" style = \"font-weight: bold; text-align: right;\">9</td><td style = \"text-align: left;\">R91273</td><td style = \"text-align: right;\">0.0</td><td style = \"text-align: right;\">1.0</td><td style = \"text-align: right;\">12.237</td><td style = \"text-align: right;\">10.999</td><td style = \"text-align: left;\">ENSG00000171503</td><td style = \"text-align: left;\">ETFDH</td></tr><tr><td class = \"rowNumber\" style = \"font-weight: bold; text-align: right;\">10</td><td style = \"text-align: left;\">R60537</td><td style = \"text-align: right;\">0.0</td><td style = \"text-align: right;\">0.0</td><td style = \"text-align: right;\">47.22</td><td style = \"text-align: right;\">19.387</td><td style = \"text-align: left;\">ENSG00000071553</td><td style = \"text-align: left;\">ATP6AP1</td></tr><tr><td class = \"rowNumber\" style = \"font-weight: bold; text-align: right;\">11</td><td style = \"text-align: left;\">R82353</td><td style = \"text-align: right;\">0.0</td><td style = \"text-align: right;\">0.0</td><td style = \"text-align: right;\">48.863</td><td style = \"text-align: right;\">15.933</td><td style = \"text-align: left;\">ENSG00000127990</td><td style = \"text-align: left;\">SGCE</td></tr><tr><td class = \"rowNumber\" style = \"font-weight: bold; text-align: right;\">12</td><td style = \"text-align: left;\">R34834</td><td style = \"text-align: right;\">0.0</td><td style = \"text-align: right;\">1656.0</td><td style = \"text-align: right;\">2.479</td><td style = \"text-align: right;\">11.361</td><td style = \"text-align: left;\">ENSG00000168924</td><td style = \"text-align: left;\">LETM1</td></tr><tr><td class = \"rowNumber\" style = \"font-weight: bold; text-align: right;\">13</td><td style = \"text-align: left;\">R30367</td><td style = \"text-align: right;\">0.0</td><td style = \"text-align: right;\">0.0</td><td style = \"text-align: right;\">31.859</td><td style = \"text-align: right;\">9.988</td><td style = \"text-align: left;\">ENSG00000135469</td><td style = \"text-align: left;\">COQ10A</td></tr><tr><td style = \"text-align: right;\">&vellip;</td><td style = \"text-align: right;\">&vellip;</td><td style = \"text-align: right;\">&vellip;</td><td style = \"text-align: right;\">&vellip;</td><td style = \"text-align: right;\">&vellip;</td><td style = \"text-align: right;\">&vellip;</td><td style = \"text-align: right;\">&vellip;</td><td style = \"text-align: right;\">&vellip;</td></tr><tr><td class = \"rowNumber\" style = \"font-weight: bold; text-align: right;\">48</td><td style = \"text-align: left;\">R70186</td><td style = \"text-align: right;\">13.0</td><td style = \"text-align: right;\">1.0</td><td style = \"text-align: right;\">16.23</td><td style = \"text-align: right;\">4.029</td><td style = \"text-align: left;\">ENSG00000115762</td><td style = \"text-align: left;\">NBAS</td></tr><tr><td class = \"rowNumber\" style = \"font-weight: bold; text-align: right;\">49</td><td style = \"text-align: left;\">R98254</td><td style = \"text-align: right;\">16.0</td><td style = \"text-align: right;\">2288.0</td><td style = \"text-align: right;\">2.315</td><td style = \"text-align: right;\">3.37</td><td style = \"text-align: left;\">ENSG00000134508</td><td style = \"text-align: left;\">MRPL38</td></tr><tr><td class = \"rowNumber\" style = \"font-weight: bold; text-align: right;\">50</td><td style = \"text-align: left;\">R75000</td><td style = \"text-align: right;\">17.0</td><td style = \"text-align: right;\">584.0</td><td style = \"text-align: right;\">4.714</td><td style = \"text-align: right;\">3.541</td><td style = \"text-align: left;\">ENSG00000070882</td><td style = \"text-align: left;\">MTO1</td></tr><tr><td class = \"rowNumber\" style = \"font-weight: bold; text-align: right;\">51</td><td style = \"text-align: left;\">R51757</td><td style = \"text-align: right;\">18.0</td><td style = \"text-align: right;\">28.0</td><td style = \"text-align: right;\">13.199</td><td style = \"text-align: right;\">3.593</td><td style = \"text-align: left;\">ENSG00000063241</td><td style = \"text-align: left;\">NDUFA10</td></tr><tr><td class = \"rowNumber\" style = \"font-weight: bold; text-align: right;\">52</td><td style = \"text-align: left;\">R78764</td><td style = \"text-align: right;\">24.0</td><td style = \"text-align: right;\">3.0</td><td style = \"text-align: right;\">34.76</td><td style = \"text-align: right;\">3.254</td><td style = \"text-align: left;\">ENSG00000114503</td><td style = \"text-align: left;\">NDUFAF2</td></tr><tr><td class = \"rowNumber\" style = \"font-weight: bold; text-align: right;\">53</td><td style = \"text-align: left;\">R29620</td><td style = \"text-align: right;\">51.0</td><td style = \"text-align: right;\">267.0</td><td style = \"text-align: right;\">4.216</td><td style = \"text-align: right;\">2.744</td><td style = \"text-align: left;\">ENSG00000151657</td><td style = \"text-align: left;\">NBAS</td></tr><tr><td class = \"rowNumber\" style = \"font-weight: bold; text-align: right;\">54</td><td style = \"text-align: left;\">R80346</td><td style = \"text-align: right;\">70.0</td><td style = \"text-align: right;\">1798.0</td><td style = \"text-align: right;\">3.079</td><td style = \"text-align: right;\">2.901</td><td style = \"text-align: left;\">ENSG00000159784</td><td style = \"text-align: left;\">LIG3</td></tr><tr><td class = \"rowNumber\" style = \"font-weight: bold; text-align: right;\">55</td><td style = \"text-align: left;\">R26710</td><td style = \"text-align: right;\">94.0</td><td style = \"text-align: right;\">575.0</td><td style = \"text-align: right;\">3.189</td><td style = \"text-align: right;\">1.879</td><td style = \"text-align: left;\">ENSG00000231789</td><td style = \"text-align: left;\">IARS</td></tr><tr><td class = \"rowNumber\" style = \"font-weight: bold; text-align: right;\">56</td><td style = \"text-align: left;\">R18626</td><td style = \"text-align: right;\">609.0</td><td style = \"text-align: right;\">226.0</td><td style = \"text-align: right;\">4.7</td><td style = \"text-align: right;\">1.086</td><td style = \"text-align: left;\">ENSG00000105639</td><td style = \"text-align: left;\">NSUN3</td></tr><tr><td class = \"rowNumber\" style = \"font-weight: bold; text-align: right;\">57</td><td style = \"text-align: left;\">R46723</td><td style = \"text-align: right;\">1027.0</td><td style = \"text-align: right;\">1325.0</td><td style = \"text-align: right;\">5.242</td><td style = \"text-align: right;\">1.07</td><td style = \"text-align: left;\">ENSG00000140406</td><td style = \"text-align: left;\">NDUFAF5</td></tr><tr><td class = \"rowNumber\" style = \"font-weight: bold; text-align: right;\">58</td><td style = \"text-align: left;\">R12128</td><td style = \"text-align: right;\">4474.0</td><td style = \"text-align: right;\">1010.0</td><td style = \"text-align: right;\">6.774</td><td style = \"text-align: right;\">0.335</td><td style = \"text-align: left;\">ENSG00000198865</td><td style = \"text-align: left;\">NDUFAF2</td></tr><tr><td class = \"rowNumber\" style = \"font-weight: bold; text-align: right;\">59</td><td style = \"text-align: left;\">R25912</td><td style = \"text-align: right;\">7423.0</td><td style = \"text-align: right;\">7423.0</td><td style = \"text-align: right;\">1.0</td><td style = \"text-align: right;\">0.0</td><td style = \"text-align: left;\">ENSG00000110090</td><td style = \"text-align: left;\">CHD1</td></tr></tbody></table></div>"
      ],
      "text/latex": [
       "\\begin{tabular}{r|cccccc}\n",
       "\t& Patient Name & Cholesky-score rank & Z-score rank & RC Z-score & RC Cholesky-score & \\\\\n",
       "\t\\hline\n",
       "\t& String & Float64 & Float64 & Float64 & Float64 & \\\\\n",
       "\t\\hline\n",
       "\t1 & R19100 & 0.0 & 0.0 & 24.275 & 8.501 & $\\dots$ \\\\\n",
       "\t2 & R61100 & 0.0 & 1.0 & 33.222 & 21.201 & $\\dots$ \\\\\n",
       "\t3 & R77611 & 0.0 & 9.0 & 8.15 & 12.217 & $\\dots$ \\\\\n",
       "\t4 & R16472 & 0.0 & 0.0 & 39.138 & 11.533 & $\\dots$ \\\\\n",
       "\t5 & R28774 & 0.0 & 0.0 & 133.791 & 10.542 & $\\dots$ \\\\\n",
       "\t6 & R64921 & 0.0 & 2.0 & 17.351 & 15.255 & $\\dots$ \\\\\n",
       "\t7 & R80184 & 0.0 & 10.0 & 11.534 & 8.062 & $\\dots$ \\\\\n",
       "\t8 & R59185 & 0.0 & 3056.0 & 4.16 & 8.944 & $\\dots$ \\\\\n",
       "\t9 & R91273 & 0.0 & 1.0 & 12.237 & 10.999 & $\\dots$ \\\\\n",
       "\t10 & R60537 & 0.0 & 0.0 & 47.22 & 19.387 & $\\dots$ \\\\\n",
       "\t11 & R82353 & 0.0 & 0.0 & 48.863 & 15.933 & $\\dots$ \\\\\n",
       "\t12 & R34834 & 0.0 & 1656.0 & 2.479 & 11.361 & $\\dots$ \\\\\n",
       "\t13 & R30367 & 0.0 & 0.0 & 31.859 & 9.988 & $\\dots$ \\\\\n",
       "\t14 & R45867 & 0.0 & 0.0 & 100.224 & 14.758 & $\\dots$ \\\\\n",
       "\t15 & R31640 & 0.0 & 0.0 & 241.556 & 50.293 & $\\dots$ \\\\\n",
       "\t16 & R55237 & 0.0 & 0.0 & 186.17 & 51.076 & $\\dots$ \\\\\n",
       "\t17 & R34820 & 0.0 & 4.0 & 17.536 & 14.024 & $\\dots$ \\\\\n",
       "\t18 & R19907 & 0.0 & 0.0 & 99.924 & 15.749 & $\\dots$ \\\\\n",
       "\t19 & R27473 & 0.0 & 37.0 & 8.851 & 15.75 & $\\dots$ \\\\\n",
       "\t20 & R30525 & 0.0 & 0.0 & 42.093 & 9.86 & $\\dots$ \\\\\n",
       "\t21 & R64055 & 0.0 & 0.0 & 92.016 & 23.103 & $\\dots$ \\\\\n",
       "\t22 & R15748 & 0.0 & 0.0 & 38.237 & 13.037 & $\\dots$ \\\\\n",
       "\t23 & R66814 & 0.0 & 0.0 & 108.939 & 14.044 & $\\dots$ \\\\\n",
       "\t24 & R77365 & 0.0 & 0.0 & 39.386 & 12.105 & $\\dots$ \\\\\n",
       "\t25 & R42505 & 0.0 & 0.0 & 22.415 & 14.701 & $\\dots$ \\\\\n",
       "\t26 & R64948 & 0.0 & 8.0 & 7.963 & 9.365 & $\\dots$ \\\\\n",
       "\t27 & R21470 & 0.0 & 18.0 & 11.003 & 5.172 & $\\dots$ \\\\\n",
       "\t28 & R47816 & 0.0 & 0.0 & 18.995 & 12.319 & $\\dots$ \\\\\n",
       "\t29 & R62943 & 1.0 & 769.0 & 2.255 & 6.683 & $\\dots$ \\\\\n",
       "\t30 & R96820 & 1.0 & 1632.0 & 2.084 & 10.883 & $\\dots$ \\\\\n",
       "\t$\\dots$ & $\\dots$ & $\\dots$ & $\\dots$ & $\\dots$ & $\\dots$ &  \\\\\n",
       "\\end{tabular}\n"
      ],
      "text/plain": [
       "\u001b[1m59×7 DataFrame\n",
       "\u001b[1m Row │\u001b[1m Patient Name \u001b[1m Cholesky-score rank \u001b[1m Z-score rank \u001b[1m RC Z-score \u001b[1m RC Cholesk ⋯\n",
       "     │\u001b[90m String       \u001b[90m Float64             \u001b[90m Float64      \u001b[90m Float64    \u001b[90m Float64    ⋯\n",
       "─────┼──────────────────────────────────────────────────────────────────────────\n",
       "   1 │ R19100                        0.0           0.0      24.275             ⋯\n",
       "   2 │ R61100                        0.0           1.0      33.222\n",
       "   3 │ R77611                        0.0           9.0       8.15\n",
       "   4 │ R16472                        0.0           0.0      39.138\n",
       "   5 │ R28774                        0.0           0.0     133.791             ⋯\n",
       "   6 │ R64921                        0.0           2.0      17.351\n",
       "   7 │ R80184                        0.0          10.0      11.534\n",
       "   8 │ R59185                        0.0        3056.0       4.16\n",
       "   9 │ R91273                        0.0           1.0      12.237             ⋯\n",
       "  10 │ R60537                        0.0           0.0      47.22\n",
       "  11 │ R82353                        0.0           0.0      48.863\n",
       "  ⋮  │      ⋮                 ⋮                ⋮            ⋮               ⋮  ⋱\n",
       "  50 │ R75000                       17.0         584.0       4.714\n",
       "  51 │ R51757                       18.0          28.0      13.199             ⋯\n",
       "  52 │ R78764                       24.0           3.0      34.76\n",
       "  53 │ R29620                       51.0         267.0       4.216\n",
       "  54 │ R80346                       70.0        1798.0       3.079\n",
       "  55 │ R26710                       94.0         575.0       3.189             ⋯\n",
       "  56 │ R18626                      609.0         226.0       4.7\n",
       "  57 │ R46723                     1027.0        1325.0       5.242\n",
       "  58 │ R12128                     4474.0        1010.0       6.774\n",
       "  59 │ R25912                     7423.0        7423.0       1.0               ⋯\n",
       "\u001b[36m                                                   3 columns and 38 rows omitted"
      ]
     },
     "metadata": {},
     "output_type": "display_data"
    }
   ],
   "source": [
    "display(df_all)"
   ]
  },
  {
   "cell_type": "markdown",
   "metadata": {},
   "source": [
    "## Save result"
   ]
  },
  {
   "cell_type": "code",
   "execution_count": 8,
   "metadata": {
    "collapsed": false
   },
   "outputs": [
    {
     "data": {
      "text/plain": [
       "\"/scratch/users/bbchu/RootCauseDiscovery/8.30.2024/result_all.csv\""
      ]
     },
     "execution_count": 8,
     "metadata": {},
     "output_type": "execute_result"
    }
   ],
   "source": [
    "# final ranking\n",
    "CSV.write(\"/scratch/users/bbchu/RootCauseDiscovery/8.30.2024/result_all.csv\", df_all)"
   ]
  },
  {
   "cell_type": "markdown",
   "metadata": {},
   "source": [
    "Also save Z-scores"
   ]
  },
  {
   "cell_type": "code",
   "execution_count": 9,
   "metadata": {
    "collapsed": true
   },
   "outputs": [],
   "source": [
    "writedlm(\"/scratch/users/bbchu/RootCauseDiscovery/8.30.2024/zscores_all.csv\", hcat(z_all...)')"
   ]
  }
 ],
 "metadata": {
  "kernelspec": {
   "display_name": "Julia 1.10.3",
   "language": "julia",
   "name": "julia-1.10"
  },
  "language_info": {
   "file_extension": ".jl",
   "mimetype": "application/julia",
   "name": "julia",
   "version": "1.10.0"
  }
 },
 "nbformat": 4,
 "nbformat_minor": 5
}
